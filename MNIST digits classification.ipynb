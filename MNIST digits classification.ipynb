{
  "nbformat": 4,
  "nbformat_minor": 0,
  "metadata": {
    "colab": {
      "name": "Copy of digits_classification.ipynb",
      "provenance": [],
      "include_colab_link": true
    },
    "kernelspec": {
      "display_name": "Python 3",
      "language": "python",
      "name": "python3"
    }
  },
  "cells": [
    {
      "cell_type": "markdown",
      "metadata": {
        "id": "view-in-github",
        "colab_type": "text"
      },
      "source": [
        "<a href=\"https://colab.research.google.com/github/ssthedarklord/IntroToDL/blob/master/MNIST%20digits%20classification.ipynb\" target=\"_parent\"><img src=\"https://colab.research.google.com/assets/colab-badge.svg\" alt=\"Open In Colab\"/></a>"
      ]
    },
    {
      "cell_type": "markdown",
      "metadata": {
        "id": "WzH9FF2VhWqe",
        "colab_type": "text"
      },
      "source": [
        "# MNIST digits classification with TensorFlow"
      ]
    },
    {
      "cell_type": "markdown",
      "metadata": {
        "id": "j-E3OAEIhWqg",
        "colab_type": "text"
      },
      "source": [
        "<img src=\"https://github.com/hse-aml/intro-to-dl/blob/master/week2/v2/images/mnist_sample.png?raw=1\" style=\"width:30%\">"
      ]
    },
    {
      "cell_type": "code",
      "metadata": {
        "id": "RjpX1HerhWqh",
        "colab_type": "code",
        "outputId": "eaa7db48-7dc3-40a4-ccd4-4cb167a8fbf7",
        "colab": {
          "base_uri": "https://localhost:8080/",
          "height": 340
        }
      },
      "source": [
        "! wget https://raw.githubusercontent.com/hse-aml/intro-to-dl/master/setup_google_colab.py -O setup_google_colab.py\n",
        "import setup_google_colab\n",
        "setup_google_colab.setup_week2_v2()\n",
        "\n",
        "import numpy as np\n",
        "from sklearn.metrics import accuracy_score\n",
        "from matplotlib import pyplot as plt\n",
        "%matplotlib inline\n",
        "import tensorflow as tf\n",
        "print(\"We're using TF\", tf.__version__)\n",
        "\n",
        "import sys\n",
        "sys.path.append(\"../..\")\n",
        "import grading\n",
        "\n",
        "import matplotlib_utils\n",
        "from importlib import reload\n",
        "reload(matplotlib_utils)\n",
        "\n",
        "import grading_utils\n",
        "reload(grading_utils)\n",
        "\n",
        "import keras_utils\n",
        "from keras_utils import reset_tf_session"
      ],
      "execution_count": 0,
      "outputs": [
        {
          "output_type": "stream",
          "text": [
            "--2018-10-04 14:40:59--  https://raw.githubusercontent.com/hse-aml/intro-to-dl/master/setup_google_colab.py\n",
            "Resolving raw.githubusercontent.com (raw.githubusercontent.com)... 151.101.0.133, 151.101.64.133, 151.101.128.133, ...\n",
            "Connecting to raw.githubusercontent.com (raw.githubusercontent.com)|151.101.0.133|:443... connected.\n",
            "HTTP request sent, awaiting response... 200 OK\n",
            "Length: 3548 (3.5K) [text/plain]\n",
            "Saving to: ‘setup_google_colab.py’\n",
            "\n",
            "\rsetup_google_colab.   0%[                    ]       0  --.-KB/s               \rsetup_google_colab. 100%[===================>]   3.46K  --.-KB/s    in 0s      \n",
            "\n",
            "2018-10-04 14:40:59 (63.7 MB/s) - ‘setup_google_colab.py’ saved [3548/3548]\n",
            "\n",
            "**************************************************\n",
            "inception_v3_weights_tf_dim_ordering_tf_kernels_notop.h5\n",
            "**************************************************\n",
            "cifar-10-batches-py.tar.gz\n",
            "**************************************************\n",
            "mnist.npz\n",
            "We're using TF 1.11.0\n"
          ],
          "name": "stdout"
        },
        {
          "output_type": "stream",
          "text": [
            "Using TensorFlow backend.\n"
          ],
          "name": "stderr"
        }
      ]
    },
    {
      "cell_type": "markdown",
      "metadata": {
        "id": "zv7pGvmRhWql",
        "colab_type": "text"
      },
      "source": [
        "# Fill in your Coursera token and email\n",
        "To successfully submit your answers to our grader, please fill in your Coursera submission token and email"
      ]
    },
    {
      "cell_type": "code",
      "metadata": {
        "id": "cWUSd89vhWqm",
        "colab_type": "code",
        "colab": {}
      },
      "source": [
        "grader = grading.Grader(assignment_key=\"XtD7ho3TEeiHQBLWejjYAA\", \n",
        "                        all_parts=[\"9XaAS\", \"vmogZ\", \"RMv95\", \"i8bgs\", \"rE763\"])"
      ],
      "execution_count": 0,
      "outputs": []
    },
    {
      "cell_type": "code",
      "metadata": {
        "id": "R4DBBjp_hWqr",
        "colab_type": "code",
        "colab": {}
      },
      "source": [
        "# token expires every 30 min\n",
        "COURSERA_TOKEN = \"mBMcRqhAaHzs9pn6\"\n",
        "COURSERA_EMAIL = \"ssthechosenone@gmail.com\""
      ],
      "execution_count": 0,
      "outputs": []
    },
    {
      "cell_type": "markdown",
      "metadata": {
        "id": "K4ir-H_ChWqt",
        "colab_type": "text"
      },
      "source": [
        "# Look at the data\n",
        "\n",
        "In this task we have 50000 28x28 images of digits from 0 to 9.\n",
        "We will train a classifier on this data."
      ]
    },
    {
      "cell_type": "code",
      "metadata": {
        "id": "QAlVkOJahWqt",
        "colab_type": "code",
        "outputId": "75941308-a4a1-4507-9e1e-a149473fa52b",
        "colab": {
          "base_uri": "https://localhost:8080/",
          "height": 51
        }
      },
      "source": [
        "import preprocessed_mnist\n",
        "X_train, y_train, X_val, y_val, X_test, y_test = preprocessed_mnist.load_dataset()"
      ],
      "execution_count": 0,
      "outputs": [
        {
          "output_type": "stream",
          "text": [
            "Downloading data from https://s3.amazonaws.com/img-datasets/mnist.npz\n",
            "11042816/11490434 [===========================>..] - ETA: 0s"
          ],
          "name": "stdout"
        }
      ]
    },
    {
      "cell_type": "code",
      "metadata": {
        "id": "4iG6ixWphWqw",
        "colab_type": "code",
        "outputId": "d804b436-acfd-42ea-ea01-96241dfe5e83",
        "colab": {
          "base_uri": "https://localhost:8080/",
          "height": 683
        }
      },
      "source": [
        "# X contains rgb values divided by 255\n",
        "print(\"X_train [shape %s] sample patch:\\n\" % (str(X_train.shape)), X_train[1, 15:20, 5:10])\n",
        "print(\"A closeup of a sample patch:\")\n",
        "plt.imshow(X_train[1, 15:20, 5:10], cmap=\"Greys\")\n",
        "plt.show()\n",
        "print(\"And the whole sample:\")\n",
        "plt.imshow(X_train[1], cmap=\"Greys\")\n",
        "plt.show()\n",
        "print(\"y_train [shape %s] 10 samples:\\n\" % (str(y_train.shape)), y_train[:10])"
      ],
      "execution_count": 0,
      "outputs": [
        {
          "output_type": "stream",
          "text": [
            "X_train [shape (50000, 28, 28)] sample patch:\n",
            " [[0.         0.29803922 0.96470588 0.98823529 0.43921569]\n",
            " [0.         0.33333333 0.98823529 0.90196078 0.09803922]\n",
            " [0.         0.33333333 0.98823529 0.8745098  0.        ]\n",
            " [0.         0.33333333 0.98823529 0.56862745 0.        ]\n",
            " [0.         0.3372549  0.99215686 0.88235294 0.        ]]\n",
            "A closeup of a sample patch:\n"
          ],
          "name": "stdout"
        },
        {
          "output_type": "display_data",
          "data": {
            "image/png": "[encoded data removed]",
            "text/plain": [
              "<matplotlib.figure.Figure at 0x7fafe7403208>"
            ]
          },
          "metadata": {
            "tags": []
          }
        },
        {
          "output_type": "stream",
          "text": [
            "And the whole sample:\n"
          ],
          "name": "stdout"
        },
        {
          "output_type": "display_data",
          "data": {
            "image/png": "[encoded data removed]",
            "text/plain": [
              "<matplotlib.figure.Figure at 0x7fafe7416d30>"
            ]
          },
          "metadata": {
            "tags": []
          }
        },
        {
          "output_type": "stream",
          "text": [
            "y_train [shape (50000,)] 10 samples:\n",
            " [5 0 4 1 9 2 1 3 1 4]\n"
          ],
          "name": "stdout"
        }
      ]
    },
    {
      "cell_type": "markdown",
      "metadata": {
        "id": "iFif_WmKhWqy",
        "colab_type": "text"
      },
      "source": [
        "# Linear model\n",
        "\n",
        "Your task is to train a linear classifier $\\vec{x} \\rightarrow y$ with SGD using TensorFlow.\n",
        "\n",
        "You will need to calculate a logit (a linear transformation) $z_k$ for each class: \n",
        "$$z_k = \\vec{x} \\cdot \\vec{w_k} + b_k \\quad k = 0..9$$\n",
        "\n",
        "And transform logits $z_k$ to valid probabilities $p_k$ with softmax: \n",
        "$$p_k = \\frac{e^{z_k}}{\\sum_{i=0}^{9}{e^{z_i}}} \\quad k = 0..9$$\n",
        "\n",
        "We will use a cross-entropy loss to train our multi-class classifier:\n",
        "$$\\text{cross-entropy}(y, p) = -\\sum_{k=0}^{9}{\\log(p_k)[y = k]}$$ \n",
        "\n",
        "where \n",
        "$$\n",
        "[x]=\\begin{cases}\n",
        "       1, \\quad \\text{if $x$ is true} \\\\\n",
        "       0, \\quad \\text{otherwise}\n",
        "    \\end{cases}\n",
        "$$\n",
        "\n",
        "Cross-entropy minimization pushes $p_k$ close to 1 when $y = k$, which is what we want.\n",
        "\n",
        "Here's the plan:\n",
        "* Flatten the images (28x28 -> 784) with `X_train.reshape((X_train.shape[0], -1))` to simplify our linear model implementation\n",
        "* Use a matrix placeholder for flattened `X_train`\n",
        "* Convert `y_train` to one-hot encoded vectors that are needed for cross-entropy\n",
        "* Use a shared variable `W` for all weights (a column $\\vec{w_k}$ per class) and `b` for all biases.\n",
        "* Aim for ~0.93 validation accuracy"
      ]
    },
    {
      "cell_type": "code",
      "metadata": {
        "id": "NNaLekVqhWqz",
        "colab_type": "code",
        "outputId": "f0ab6182-e890-42e2-dda4-ab15d8b1e3b8",
        "colab": {
          "base_uri": "https://localhost:8080/",
          "height": 51
        }
      },
      "source": [
        "X_train_flat = X_train.reshape((X_train.shape[0], -1))\n",
        "print(X_train_flat.shape)\n",
        "\n",
        "X_val_flat = X_val.reshape((X_val.shape[0], -1))\n",
        "print(X_val_flat.shape)"
      ],
      "execution_count": 0,
      "outputs": [
        {
          "output_type": "stream",
          "text": [
            "(50000, 784)\n",
            "(10000, 784)\n"
          ],
          "name": "stdout"
        }
      ]
    },
    {
      "cell_type": "code",
      "metadata": {
        "id": "osozfabPhWq1",
        "colab_type": "code",
        "outputId": "e414d9b8-4718-4da6-c836-b8d8c67a640e",
        "colab": {
          "base_uri": "https://localhost:8080/",
          "height": 85
        }
      },
      "source": [
        "import keras\n",
        "\n",
        "y_train_oh = keras.utils.to_categorical(y_train, 10)\n",
        "y_val_oh = keras.utils.to_categorical(y_val, 10)\n",
        "\n",
        "print(y_train_oh.shape)\n",
        "print(y_train_oh[:3], y_train[:3])"
      ],
      "execution_count": 0,
      "outputs": [
        {
          "output_type": "stream",
          "text": [
            "(50000, 10)\n",
            "[[0. 0. 0. 0. 0. 1. 0. 0. 0. 0.]\n",
            " [1. 0. 0. 0. 0. 0. 0. 0. 0. 0.]\n",
            " [0. 0. 0. 0. 1. 0. 0. 0. 0. 0.]] [5 0 4]\n"
          ],
          "name": "stdout"
        }
      ]
    },
    {
      "cell_type": "code",
      "metadata": {
        "id": "HnUYkJsVhWq3",
        "colab_type": "code",
        "colab": {}
      },
      "source": [
        "# run this again if you remake your graph\n",
        "s = reset_tf_session()"
      ],
      "execution_count": 0,
      "outputs": []
    },
    {
      "cell_type": "code",
      "metadata": {
        "id": "CLx_7WLChWq6",
        "colab_type": "code",
        "colab": {}
      },
      "source": [
        "# Model parameters: W and b\n",
        "W = tf.get_variable(\"W\", [784, 10], initializer=tf.contrib.layers.xavier_initializer(seed=1))### YOUR CODE HERE ### tf.get_variable(...) with shape[0] = 784\n",
        "b = tf.get_variable(\"b\", [10, ], initializer=tf.zeros_initializer())### YOUR CODE HERE ### tf.get_variable(...)"
      ],
      "execution_count": 0,
      "outputs": []
    },
    {
      "cell_type": "code",
      "metadata": {
        "id": "JfHzR7uehWq9",
        "colab_type": "code",
        "colab": {}
      },
      "source": [
        "# Placeholders for the input data\n",
        "input_X = tf.placeholder(tf.float32, [None, 784])### YOUR CODE HERE ### tf.placeholder(...) for flat X with shape[0] = None for any batch size\n",
        "input_y = tf.placeholder(tf.float32, [None, 10])### YOUR CODE HERE ### tf.placeholder(...) for one-hot encoded true labels"
      ],
      "execution_count": 0,
      "outputs": []
    },
    {
      "cell_type": "code",
      "metadata": {
        "id": "pdoGPF_ihWrA",
        "colab_type": "code",
        "colab": {}
      },
      "source": [
        "# Compute predictions\n",
        "logits = tf.matmul(input_X, W) + b### YOUR CODE HERE ### logits for input_X, resulting shape should be [input_X.shape[0], 10]\n",
        "probas = tf.nn.softmax(logits)### YOUR CODE HERE ### apply tf.nn.softmax to logits\n",
        "classes = tf.argmax(probas, 1)### YOUR CODE HERE ### apply tf.argmax to find a class index with highest probability\n",
        "\n",
        "# Loss should be a scalar number: average loss over all the objects with tf.reduce_mean().\n",
        "# Use tf.nn.softmax_cross_entropy_with_logits on top of one-hot encoded input_y and logits.\n",
        "# It is identical to calculating cross-entropy on top of probas, but is more numerically friendly (read the docs).\n",
        "loss = tf.reduce_mean(tf.nn.softmax_cross_entropy_with_logits(logits=logits, labels=input_y))\n",
        "\n",
        "step = tf.train.AdamOptimizer().minimize(loss)"
      ],
      "execution_count": 0,
      "outputs": []
    },
    {
      "cell_type": "code",
      "metadata": {
        "id": "jHxeyH5ChWrD",
        "colab_type": "code",
        "outputId": "05ea3906-0409-4716-8c84-f10c892b019e",
        "colab": {
          "base_uri": "https://localhost:8080/",
          "height": 309
        }
      },
      "source": [
        "s.run(tf.global_variables_initializer())\n",
        "\n",
        "BATCH_SIZE = 512\n",
        "EPOCHS = 40\n",
        "\n",
        "# for logging the progress right here in Jupyter (for those who don't have TensorBoard)\n",
        "simpleTrainingCurves = matplotlib_utils.SimpleTrainingCurves(\"cross-entropy\", \"accuracy\")\n",
        "\n",
        "for epoch in range(EPOCHS):  # we finish an epoch when we've looked at all training samples\n",
        "    \n",
        "    batch_losses = []\n",
        "    for batch_start in range(0, X_train_flat.shape[0], BATCH_SIZE):  # data is already shuffled\n",
        "        _, batch_loss = s.run([step, loss], {input_X: X_train_flat[batch_start:batch_start+BATCH_SIZE], \n",
        "                                             input_y: y_train_oh[batch_start:batch_start+BATCH_SIZE]})\n",
        "        # collect batch losses, this is almost free as we need a forward pass for backprop anyway\n",
        "        batch_losses.append(batch_loss)\n",
        "\n",
        "    train_loss = np.mean(batch_losses)\n",
        "    val_loss = s.run(loss, {input_X: X_val_flat, input_y: y_val_oh})  # this part is usually small\n",
        "    train_accuracy = accuracy_score(y_train, s.run(classes, {input_X: X_train_flat}))  # this is slow and usually skipped\n",
        "    valid_accuracy = accuracy_score(y_val, s.run(classes, {input_X: X_val_flat}))  \n",
        "    simpleTrainingCurves.add(train_loss, val_loss, train_accuracy, valid_accuracy)"
      ],
      "execution_count": 0,
      "outputs": [
        {
          "output_type": "display_data",
          "data": {
            "text/html": [
              "<img src=\"data:image/jpeg;base64,/9j/4AAQSkZJRgABAQEASABIAAD/2wBDAAIBAQEBAQIBAQECAgICAgQDAgICAgUEBAMEBgUGBgYFBgYGBwkIBgcJBwYGCAsICQoKCgoKBggLDAsKDAkKCgr/2wBDAQICAgICAgUDAwUKBwYHCgoKCgoKCgoKCgoKCgoKCgoKCgoKCgoKCgoKCgoKCgoKCgoKCgoKCgoKCgoKCgoKCgr/wAARCAEgA2ADASIAAhEBAxEB/8QAHwAAAQUBAQEBAQEAAAAAAAAAAAECAwQFBgcICQoL/8QAtRAAAgEDAwIEAwUFBAQAAAF9AQIDAAQRBRIhMUEGE1FhByJxFDKBkaEII0KxwRVS0fAkM2JyggkKFhcYGRolJicoKSo0NTY3ODk6Q0RFRkdISUpTVFVWV1hZWmNkZWZnaGlqc3R1dnd4eXqDhIWGh4iJipKTlJWWl5iZmqKjpKWmp6ipqrKztLW2t7i5usLDxMXGx8jJytLT1NXW19jZ2uHi4%2BTl5ufo6erx8vP09fb3%2BPn6/8QAHwEAAwEBAQEBAQEBAQAAAAAAAAECAwQFBgcICQoL/8QAtREAAgECBAQDBAcFBAQAAQJ3AAECAxEEBSExBhJBUQdhcRMiMoEIFEKRobHBCSMzUvAVYnLRChYkNOEl8RcYGRomJygpKjU2Nzg5OkNERUZHSElKU1RVVldYWVpjZGVmZ2hpanN0dXZ3eHl6goOEhYaHiImKkpOUlZaXmJmaoqOkpaanqKmqsrO0tba3uLm6wsPExcbHyMnK0tPU1dbX2Nna4uPk5ebn6Onq8vP09fb3%2BPn6/9oADAMBAAIRAxEAPwD9/KKKKACiiigAooooAKKKKACiiigAooooAKKKKACiiigAooooAKKKKACiiigAooooAKKKKACiiigAooooAKKKKACiiigAooooAKKKKACiiigAooooAKKKKACiiigAooooAKKKKACiiigAooooAKKKKACiiigAooooAKKKKACiiigAooooAKKKKACiiigAooooAKKKKACiiigAooooAKKKKACiiigAooooAKKKKACiiigAooooAKKKKACiiigAooooAKKKKACiiigAooooAKKKKACiiigAooooAKKKKACiiigAooooAKKKKACiiigAooooAKKKKACiiigAooooAKKKKACiiigAooooAKKKKACiiigDxPxd/wAFFP2PvAmoXmn%2BK/ipc2gs9UbTReHwpqj2l5eLfw6fJb2lwlsYb2SO7nigkW3eQxOxD7drY2j%2B2f8As6R%2BObL4c3XjHUbfVLy6sLNlu/Cmpw29le3sUctpY3dw9sIbG8lSWIraXDxzkzRjy8uoPiVz%2Bxn%2B1bH4C8N/s66Zqfw9HgXwn8W9N8V22tXOo3r6rqtnb%2BLrXWxbyQC1EVrLHAlxFvEswuJFiJ%2Bzqzbeh8cfsffGzXfGPi3wPoup%2BFv%2BEA8c/F7QfHuq61dalcrrOnvp8mlTyWEVqtu0Mwll0mLbcNcRmJLhh5TmNSwB6Fa/t1fsv3cGr3w8f30Nno2n3N7LqV54U1OC0vYLedLeZ7G4ktli1HbNJHHi1aYlpEAB3rns/hT8ZfAXxp0m91fwJc6njTdQNlqVnrfh690q8tJxGkuyW1voYZ48xyxupZAGVwQSDmvmbTf2IPj5a6t4mtbTwl8ONN8MazoOp22reBV8Za1feHfFN5cXcEsdw2mTwCPQGCJcEvZyTnzLkMRL5Q3egfs4/sm%2BOvDGmXP/AAu3xl4hhgsfFa6n4L8M6H8ZPEOpQaLbC3tla2mvpmtZtTheeGSUQXUbxRLKY1BQnIB0kX7eP7Kk0fiC6HxNlW18N6Jqur32oy%2BHdQS0urLTSRfzWVw1uItSFuRiQWjTFSQCMkZ5vx3/AMFL/wBmXwh4Vl8TaPd%2BJtceDxF4b0yXTdP8Dav9qeLW78WdnfwxNaB7m1crO0c8IeOZoTFEzyvGjeKaH/wSx%2BI%2BjfBrXPgl5eiXX9m/DfxR4c8C%2BK9W%2BK/ia/LzajZT2VtI%2Bkz5sdLUQzFZjALjJGY0j4A7z4//ALEPxs8d%2BOH%2BIfw%2B1Pwo9zp/hz4cxaTp2r6nc20dzfeG/FE2szxSyRW0phhlidIklVJGDliYsAbgD1V/25/2ZFtteu4/G%2BpzJ4b8Sf8ACPakLbwfqsrPq/nPCdOt1S1JvLsOhJggEkgQrIV2MrGpqn/BQX9lDSbTRp5PH%2Bq3U%2Bv2Wq3WmaXpfgnWLy/ZNMuIrfUFks4LR7iGW3lmRZIpI1kT5iVwjleFtv2OvjToXha08QaFfeFZvFegftCaz8R9G0y61O5j0%2B%2Bgvl1C3NnPcrbNJDILbUZSJFhlCyxJ8rCvMNI%2BEf7S3wX/AG5vCGqeD9N8Dav478U%2BA/iX4l1jSNT128tdItftmt%2BFwlvBdpZyzN5Srb5kNuvnFZfli8wbQD6jsf2yP2adU8Gaz8QtK%2BKVvd6PoNxpMGoXtpY3MoLapDaTaeYVWMtcrcJfWvlvCHVmkKZ3I6r6bXwN8Nv2Q7XwR%2B1Z8Ff2dvBXxLsNdsPh58M9Ff432dmnD3ugLu8PPKqki2klutRnuUjf52i06PGVQGvvmgAooooAKKKKACiiigAooooAKKKKACiiigAooooAKKKKACiiigAooooAKKKKACiiigAooooAKKKKACiiigAooooAKKKKACiiigArzb4q/tdfs/fBPxlH4D%2BJPje4stR%2By2l1efZ9Bvru3023urh7a2nvbi3geGwilmjkRJLl41YxvgnY2PSa%2BQ/28f2Kv2o/2pNZ8Z6N4R%2BIWn/8I5rvhC0s/DFtqHxB1rSoNGvoXnkm8/TtPi8jU47ljApluZG8hVJWCXbscA9gh/br/ZUku9btpviqtrFoGn6hfXeoahot7bWVzb2EywXslndSwrDqAhldI3%2ByvKVd1U8sAdDwJ%2B2B%2Bz78R/EmneC/DXjC%2Bj1vVNTutPt9D1fwzqOnX0Vzb2kd5LHPb3dvHLbH7NLHMvnKgkSRShbIrwzQ/wBjX9rW8/ZXP7IXiDWvh5pWgaLpEn9ga1ZX99qF3qF9FqUN9YC5R7e3W2hjMRinKNO1xuDqIOYz1/jH4S/tp%2BNfiB4H%2BPWqaH8ME1/wZ4l1CS08HQeJtQWzGmXel/ZHLambAyTXAnHnAfY408s%2BVnK%2BawB2uh/t0/steJddsPDmh/EuW4utR0KfWotnh7UBFDpsM9zbzXk8pg8u1gSa0njaSZkUMEBP72Le3w9%2B3Z%2By74m8J6741sviFe21l4dsdPvdSj1fwrqdhctbX8jRWM0Ftc20c13Hcyq0UDQJIJpAUjLN8teO/s%2BfsI/tK/Bjw3q7xfFHwvY%2BKLj4J3fhXR/EWlxzSrY61Jq2rX0V6IZYgDAn263baWJ3RuuCAGbkrH/gnN%2B1HceNNR%2BImoa74div59G8Iz2dvrXxT1/xIw1jw7r39rQrLc6hbB/st3vlR/JSJbU7WjgmJY0AfUHw9/bC/Z2%2BJ%2Buy%2BF/Cnj%2BRdTttLvdQvdN1fRL3Tbizgs5Yorrz47uGJoHia4ty8UgWRVnicrskRj2nw98e%2BFvip4C0T4m%2BBr%2BS70XxFpNvqWkXU1nLbtNazxrLE5imVJIyUZTtdVYZwQDxXxx%2B3H8PfjP8Ybb4c/D3xh4x8IaH8UvFXjTUNFj8PeD724unh8D6lZNaa0vnSpDLMYoUS7N2YYIxPDbRBdxQyfbOnadYaRp8Gk6XZx29rawrDbW8KBUijUAKqgcAAAAD2oAmooooAKKKKACiiigAooooAKKKKACiiigAooooAKKKKACiiigAooooAKKKKACiiigAooooAKKKKACiiigAooooAKKKKACiiigAooooAKzPFWs3eh6el3aJGzNMEIkUkYwT2I9K068t%2BMfxYfQvjP4P%2BCbaUjR%2BJfDut6v9uMpDRPp82mxCILjBDrqDsTnjyRwd3C54QlHn2bS%2Bb0R04bCYjGylGiruMZTf%2BGEeaT%2BS1tu%2Bh0H/AAsPWv8An1tf%2B%2BG/%2BKo/4WHrX/Pra/8AfDf/ABVYNFd3s4djjuze/wCFh61/z62v/fDf/FUf8LD1r/n1tf8Avhv/AIqsGij2cOwXZ0j%2BO9YXT4rsW9tueaRCNjYwoQj%2BL/aNQ/8ACw9a/wCfW1/74b/4qsub/kC2/wD19Tf%2BgxVVpKnDsF2b3/Cw9a/59bX/AL4b/wCKo/4WHrX/AD62v/fDf/FVg0U/Zw7Bdm9/wsPWv%2BfW1/74b/4qprrx3rEEFvKtvbEzQl2yjcHey/3v9kVzdWtQ/wCPSx/69T/6NkpOnC%2BwXZqf8LD1r/n1tf8Avhv/AIqj/hYetf8APra/98N/8VWDRT9nDsF2b3/Cw9a/59bX/vhv/iqP%2BFh61/z62v8A3w3/AMVWDRR7OHYLs6S%2B8d6xazrElvbEGGN%2BUbqyKx/i96h/4WHrX/Pra/8AfDf/ABVZesf8faf9esH/AKKSqtJU4W2C7N7/AIWHrX/Pra/98N/8VR/wsPWv%2BfW1/wC%2BG/8Aiq4bx98S/hz8KdCHij4o%2BP8ARPDWmGdYBqOv6rDZwGVgSqeZMyruIU4GcnB9K4v/AIbd/Yv/AOju/hf/AOF9p3/x6sKtfA0ZctScYvs5RT%2B5yT/A9XB5Fn%2BY0fbYTCVqsL25oUqs43W65oUpq66q911SPbf%2BFh61/wA%2Btr/3w3/xVTaj471iz1Ce0jt7YrFMyKSjZIBI/vV4Z/w27%2Bxf/wBHd/C//wAL7Tv/AI9Xe%2BGfid8Nfi3Dd%2BLfhT8QtD8T6UdQliGp%2BHtWhvbcyA5KeZCzLuAZSRnPI9aVOvga0%2BWnOMn2Uot/cpNhjMiz/LqHtsXhK1KF0uadKrCN3suadKCu%2Bivd9EzsP%2BFh61/z62v/AHw3/wAVR/wsPWv%2BfW1/74b/AOKrwjxh%2B2d8G/h98Vtc%2BFHjX%2B3rO60SHSB9rg8LahdRXtzqBuPItYPs8D%2BdKRBwqZLM5UAsjgWde/a5%2BDml6he6Dba9LHqVjfwW7Q6zompWUNyH1O302R7aZrRlu1S4uIoy0O9A8kYd41fzB0clPseVdnt3/Cw9a/59bX/vhv8A4qptO8d6xeahBaSW9sFlmVGIRsgEgf3q8U%2BH37WfwJ%2BKeovpXgLxNqWoTrbC5iVfC2pRi5h%2B1C1eWBpLdRcJHOwSVoiwhJzIUHNZnxy/auv/AIE%2BKr1dI%2BHMWu2Pg/wk3i/xzdS62bSSw0iOZ13W0Ygk%2B1TstvduImaFcW%2BPMBcCk4U7bBdnvH/Cw9a/59bX/vhv/iqP%2BFh61/z62v8A3w3/AMVXhP7Qn7SPiD4P6uNB8E/DOHxPd2fhHUvFGtRT659h%2Bz6bZNCriE%2BRL51zIZSIom8tD5T75Y/l3WPCn7Rmp%2BLPjHr3w2svhfd/2dp3guy8RaFrCanC0uuRXDSrsigOBEMx7VaWRSzbsoihXd8lO%2BwXZ7d/wsPWv%2BfW1/74b/4qj/hYetf8%2Btr/AN8N/wDFV8ra1%2B3jfeHPgloPxV8WfD3w94audW8c694a1AeLvHa2Oj6RNpd5qNs73GpC1kCmVtPIjURYZ5Qm7gM1r4eft1xfE74i6N4H0D4d2Nm13o%2BnXWs6Xrfi6Cz120uLvS01I28GmvHm78iGa2EzCVCpmO1X2NRy0uwan1LY%2BO9Yup2ie3tgBDI/CN1VGYfxe1Q/8LD1r/n1tf8Avhv/AIqvjvwH/wAFRNF1/wAJ3niSTwX4XhunTSoLDb8Q1On2lzqMd40llql41ov9m3dnDZzTXMHlzNGpjALM4FdTH%2B25Lc/EHwn8M7Pwn4U/tXW9F0rU9VhuPiVaRgxX93PbwjSm8opqzbbW5nKhoD5Sx8b5RGEo0r7BqfTf/Cw9a/59bX/vhv8A4qj/AIWHrX/Pra/98N/8VXz1c/tJfGGy%2BI158MLn9nONtWu9A1LV/Cdhb%2BMYXmuoLTULWzDX2YRHYCX7XHOhSS5Jiin%2BXzI/Kblrv9u3xmtpq2m6P8CrHUNd8K22v3ni2ztvGDfZIrTSZII5jZXJswbuaRp9iRvHAokt50kkjKAs%2BWn2DU%2Brv%2BFh61/z62v/AHw3/wAVU1t471ieC4la3tgYYQ64RuTvVf73%2B0a%2BVNV/b0lsbe68aaV8HrjV/B819rWl%2BGNS0nVjLqWs6npumXWoSwLYmACNJBY3kMb%2BczNJEoMaiQEZOk/8FMdFuvB097ZaT4AuLu88Qf2RYa3B8U0/4ReVEsYr%2BWc6u1mMGPclu0a27ETzRrnBdkTjS7BqfXf/AAsPWv8An1tf%2B%2BG/%2BKo/4WHrX/Pra/8AfDf/ABVfMcf7cTj4/wCi/Am%2B%2BHmm2l7qs%2Bnwtp83i6NtYYXWnm8a8trKOFku7CEh4ZLtZwokhmwrBBv0/D37U/jzxF8K/E3j6X4NaboV94Y8XXOkalZeKfHFvZ2en2sMccz3t7eLFIsAWOQBkiWcK%2BAHZMyK%2BWn2DU%2Bif%2BFh61/z62v/AHw3/wAVWz4S8RXuvfaPtkUS%2BVs2%2BUpGc7uuSfSvGvgP8Um%2BNnwg0H4qt4dfSv7bsRcLZtcecoXcQJI5NqebC4AkjkKqXjdG2rnA9W%2BG3/L7/wBs/wD2apqQgoXSGm7nUUUUVylBSMyqpZmAAGSSelLTLiRoreSVLd5mVCREhXc5x90biBk9OSB7igDh/Av7TXwJ%2BJXwu1j42eDPiPZ3XhLQJL1dW8QSRSwW0C2ilriXfKq74lUFxKuY3TDKzKQaxG/bX/Z1Xw0PEreJtb/5DJ0r%2Bx/%2BEH1f%2B1hdi0%2B2lDpv2X7YB9lIn3mHZ5ZD52kGvH9I%2BGPx8%2BJX7Onxy%2BCOr/s8eIvCOoePdT8R3vhu98Q6vo0lm4vIibeOY2N/cSICyqj/ACEAPxnnDF%2BGn7RsX7TT/ttL%2BzrrLF7x9NHw8/t/SRqgszpMcQvzJ9s%2Bx7vtUZi2C4LeQQ/3sxUAfVnhrxJoHjLw5p/i/wAKavb6hpeq2UV5pt/aSB4rm3lQPHKjDhlZWDAjqCKxvEHjLVNJ1ebT7eC3ZI9u0ujZ5UHs3vWN%2Byn8L9f%2BCX7Mnw9%2BD3iu5t5tU8MeDNM0vUpLRi0JuILaOOQRkgExhlIXIB2gVb8W3lvF4guI5NKt5CNmXdpMn5F9HA/StaSTlqhMd/wsPWv%2BfW1/74b/AOKo/wCFh61/z62v/fDf/FV5R4i/bJ/ZG8H67d%2BF/Fv7QPwy0vU7CdoL7TtR8b20E9tKpwySRvchkYHqCARVP/huz9iT/o5/4S/%2BHBs//kqs3jMti7OpBP8Axw/%2BTPbp8LcU1YKcMvxDi0mmqFdpp6ppqg0000002mtU2j2P/hYetf8APra/98N/8VR/wsPWv%2BfW1/74b/4qvKPDv7ZP7I3jDXbTwv4S/aB%2BGWqanfzrBY6dp3je2nnuZWOFSONLks7E9AASa1vjx8cPC3wA%2BDviL4zeJ/CMt5Y%2BHdMe7mtNMtrmeebGAqKkZZuWIBbGFBLNhQSNqVTC14uVNqSXZp/k2cGOy3M8sqKGNoVKUmrpVITg2trpThBtX0uk1fS9z0fUfHesWeoT2kdvbFYpmRSUbJAJH96of%2BFh61/z62v/AHw3/wAVXkmqftpfs/S3euXdnFrd7/Y%2BvNpeoJaeAtennS82SStD5UVuXaRI42eRVU%2BUCm/ZvTdjXP7eX7OGm3c6X2s2t3C8kZ0f/hHdJ1fVJr6FtMttSMgitrdicW11HL%2B7Mi%2BWdxYEOiWo07bHFqe6f8LD1r/n1tf%2B%2BG/%2BKo/4WHrX/Pra/wDfDf8AxVcDf/Hf4bWfwz1b4vQ2iXGgaPobavNqEVrdCO4sxaC7EsDuyrOpiIO5CRnKkhlYDmfgt%2B0frvj3Vda8KfEz4Maf4Z1vR/Dml%2BIDYadrs%2BppJp9/9rWAl/LhInWSxuUeIKygopV3DjD5YdhXZ7Vp3jvWLzUILSS3tgssyoxCNkAkD%2B9UP/Cw9a/59bX/AL4b/wCKr5d8Df8ABRK/8Rx%2BG4IfgV4fg8Q%2BMrbw3qXgrTh44le2nstYlnW3kvLkW5NnIn2d96JFcKXeNI3lLHbn3n/BTLQoNd8PaDD8JPDwn1W5js7i1ufGrx3F/fLrtzot3baNGIm/tZ7ae1eWT5oMQzW7nHmEIrU77D1PrL/hYetf8%2Btr/wB8N/8AFUf8LD1r/n1tf%2B%2BG/wDiq%2BefA37cmiaxfrq/xB%2BGWmeHPCmqeGda8Q%2BGPEP9uz3L3Wm6ZdQQTyXMHlp9md1uYJo0R59yMwJRl2ntP2Zvj1cftBfCKD4m6z8Ix4Wu5Nc1nTbjQb2/eea1ew1S6sCJGUqodvs29kGQhYoGcLvZqMH0Fqepf8LD1r/n1tf%2B%2BG/%2BKqax8d6xdTtE9vbACGR%2BEbqqMw/i9qxf7QtP%2BgHa/wDfcv8A8XVnSr61a5YLo9sv%2BjTHIaX/AJ5Nxy/fpQ4RtsF2W/8AhYetf8%2Btr/3w3/xVH/Cw9a/59bX/AL4b/wCKrL/tC0/6Adr/AN9y/wDxdH9oWn/QDtf%2B%2B5f/AIunyQ/lC7NT/hYetf8APra/98N/8VR/wsPWv%2BfW1/74b/4qsv8AtC0/6Adr/wB9y/8AxdH9oWn/AEA7X/vuX/4ujkh/KF2bVt471ieC4la3tgYYQ64RuTvVf73%2B0ah/4WHrX/Pra/8AfDf/ABVVLG%2BtWtrwjR7YYtgSA0vzfvU4Pz/jx6VW/tC0/wCgHa/99y//ABdJQjfYLs1P%2BFh61/z62v8A3w3/AMVR/wALD1r/AJ9bX/vhv/iqy/7QtP8AoB2v/fcv/wAXR/aFp/0A7X/vuX/4unyQ/lC7NT/hYetf8%2Btr/wB8N/8AFVMnjvWG0%2BW7NvbbkmjQDY2MMHJ/i/2RWL/aFp/0A7X/AL7l/wDi6sxX1qdInf8Ase2AFzECu6XB%2BWTn7%2Bf/ANdJwj2C7Lf/AAsPWv8An1tf%2B%2BG/%2BKo/4WHrX/Pra/8AfDf/ABVZf9oWn/QDtf8AvuX/AOLo/tC0/wCgHa/99y//ABdPkh/KF2an/Cw9a/59bX/vhv8A4qj/AIWHrX/Pra/98N/8VWX/AGhaf9AO1/77l/8Ai6P7QtP%2BgHa/99y//F0ckP5Quzafx3rC6fFdi3ttzzSIRsbGFCEfxf7RqH/hYetf8%2Btr/wB8N/8AFVUlvrUaRA/9j2xBuZQF3S4Hyx8/fz/%2Bqq39oWn/AEA7X/vuX/4ukoR7Bdmp/wALD1r/AJ9bX/vhv/iqP%2BFh61/z62v/AHw3/wAVWX/aFp/0A7X/AL7l/wDi6hv/ABBoul2rX2p2On20CDLzTzyIq/UmTApuEErtDipSklHVs2v%2BFh61/wA%2Btr/3w3/xVTXXjvWIILeVbe2JmhLtlG4O9l/vf7Irxrxr%2B27%2Bx98Ogw8afHn4e2Mifetn8UxtN%2BESzFz%2BArzfXP8Agsj/AME9opYdK8P/ABLk8QXkMJV7TQvC2rXBU73OFYRBWHIOdx69a82vmmT4aVqtaCfZzjf7rt/gfW5dwBx5m9P2mCyvE1I91Qq8vrzOEY28%2Ba3mfU//AAsPWv8An1tf%2B%2BG/%2BKo/4WHrX/Pra/8AfDf/ABVfJX/D1XwZrnyfDL9iT43eKS33J9N%2BHtwlv/wKSW4XaPfFKP26P2v9ZG7wb/wSi8Uzq3%2Br/tvxraacT9RIzbax/trKH8Dcv8MKkvyhb8T0/wDiF3G9P/eKEKP/AF9xGFpP7p4m6%2BcUfWn/AAsPWv8An1tf%2B%2BG/%2BKrpvD%2Boz6tpEOoXCorybtwQEDhiO/0r4lH7Sn/BTjWOdO/4Jq%2BEtHz0/tb4uQ3G36%2BR1r6t/Zt1j4ra/wDBXRdX%2BN3g/SNA8UTC4/tTSNCv3ubW3xcSiMJK/wAzZiEbHPRmYDgVrSx1DFS5adOa63lCUV98ra%2BVjx864SzDIMKq%2BJxGHnd8vLSxNGtNaN3caUpWjpZyva7S6nc0UUVufMhRRRQAUUUUAFFFFABRRRQAUUUUAFFFFABRRRQAUUUUAFFFFABXif7Oa%2BKNM/aT%2BNvhrXPiLr%2BvWtvrWk3enxa3qHmx6etxZGRoLaNQscES/KoVFBbZucvIzu3tlcLoP7L/AOzT4W8aXHxI8Mfs8eBdN8RXc7T3ev2HhKzhvZpS28u86RCRmLfMSTnPPWgDzX9jvStfuviF4o8Y%2BEviL4y8Q/D1tLtNN0/WvGniGe/k8RazBPc/bdUtEkOy1tWDxRKLdIbeZo2aKJYkikly/wBqXUEtP2%2BvgFYSXaQi/wDCXjiDdIGwcDRpcfKCf%2BWdez/DD9nb9n74IzS3PwX%2BBfg7whJPbLbzyeF/DFpp7SQqcrGxgjXKjsp4FfOX7c2ovp3/AAUW/ZTXBEd3D47t3bsCdMtHUfiY68/Mp%2Bzowl/08pfjUiv1PtOAsP8AWs5r0%2B%2BExr/8BwlWX/tp7x/Z9p/0HLX/AL4l/wDiKP7PtP8AoOWv/fEv/wARVWivfs%2B58OWv7PtP%2Bg5a/wDfEv8A8RR/Z9p/0HLX/viX/wCIqrRRZ9wNOWxtTpECf2xbAC5lIbbLg/LHx9zP/wCuq39n2n/Qctf%2B%2BJf/AIiib/kC2/8A19Tf%2BgxVVpJPuBa/s%2B0/6Dlr/wB8S/8AxFH9n2n/AEHLX/viX/4iqtFOz7gWv7PtP%2Bg5a/8AfEv/AMRVm%2BsbVrazB1i2GLYgErL8371%2BR8n4c%2BlZlWtQ/wCPSx/69T/6NkpNO61AP7PtP%2Bg5a/8AfEv/AMRR/Z9p/wBBy1/74l/%2BIqrRTs%2B4Fr%2Bz7T/oOWv/AHxL/wDEUf2faf8AQctf%2B%2BJf/iKq0UWfcDT1WxtWuVLaxbL/AKNCMMsv/PJeeE79arf2faf9By1/74l/%2BIo1j/j7T/r1g/8ARSVVpJO24Gd4%2B%2BEnwu%2BK2hDwv8UfDfhrxLpgnWcadr%2Bji8gEqghX8uaJl3AMcHGRk%2BtcX/wwn%2BxJ/wBGwfCX/wAN9Z//ACLV/wCPv7Rfwb/Zf8CL8S/jn4x/sPRGvo7Nb3%2Bz7i5zO4Yomy3jkfkI3OMccnpXiv8Aw%2Ba/4Jr/APRyH/ln6z/8h15ONxWQ0a/LjJ0lOy%2BP2d7dPiTduxpHjevw%2BvqkMzlh18XIsRUpLXryxqwWtt%2BXW27set/8MJ/sSf8ARsHwl/8ADfWf/wAi13nhb4R/Cz4T2114V%2BFfhXw14W0v7fLN/ZWgaMtlAsjHDN5cESpuwqgkDnaOeK%2BaP%2BHzX/BNf/o5D/yz9Z/%2BQ69x%2BC/7SXwW/ap8MXfxT%2BAvjP8At7QW1ae1F/8A2dc2v71NrMuy4jjfgOpztxz160sFishrYjlwc6TnZ/ByXt1%2BFJ27hLjevxAvqk8zliF8XI8RUqrTryyqzWl9%2BXS%2B6ucp45/ZEuPGP7QCfGWH4w6ba2BvtBvbjRX0CeWZ7jTGvthW48xVVJEvSCpiYq0YYMQdo8yj/wCCXLx%2BPYfHS/H7w2twLuc6heR/D%2BRdQ1WB/EGna0hvLv7RvuLhH05YBKw2COQ7YUIO72DxP%2B094C8J%2BMr74f6no2strFn4h0rSobGC2iZ737fC00d1CPMG6BI4bwyMdrj7BcbUfam/x7Wf%2BCm/gjxFp1lf/DDT/K%2Bya7Pb%2BKYNQex1KW3s/wDhHNb1WGWH%2Bz9QeEymXSthhkmRwBIrLGXSQeq1HqyNT074W/siXfwn1PwjrOh/GPTLi48K%2BE9S0LF14enKXSXmp2d7JLhZQUZUtWiUZYbpQ5yEMb2fjt%2ByFJ8dfE99JpHxfs9EsvF/hJvCPjiybQ5bqTUtIkmdtltJviFrcBZ7tFlYSqBcEmPKKa49/wBtq98QfErwP4L%2BHnwy1i%2B03XPFt7ouq69dWdvHb3kttoF9qMlvZf6ZvjnWe3hiJnURECZVdtvmL33xQ%2BJPxQ074jeAvhX8In0TTde8WXF5cvqHijTZb23sre0hR3UwW9xCZJGlmgTIlCqpdvmwAR25XqGtzM%2BOf7LHir4u6nLrmh/HXSPD97e%2BGdW8ManNH4XnuBLo988LYjDTL5d5D5PyTnfHmSQtAwKhXaR%2Bzf8AEvw18drn4qeGPjf4NttF/wCENh8OaZ4em8DX0k1rBbmeS3drkX6iQrLMC4ES7402DYx8wYMX7Svj/wCIfwm%2BDWvfDSw0bR9e%2BLaQSGTXLOW/tdHT%2BybjUJ8xRTQNcENAIFxJGP3m8khdjZHhn9oL9oTx9a/CzXfDGs%2BDLZvG2pLb614auPC13PNbRWZf%2B1riO8W/QLGPJaOFmt2xJcW4cMGJD07gXPCn7Fnxb8M6NpMr/tK%2BDLnXNA8ceIfEWkXj/Di9%2BxA61cX9xdwzWx1FmkKvfMIpEljKIhVhIHbNTw5/wTd0Dwlp2i%2BCdC%2BNdsnhizfQLrWYZNAk/tW9vtIsIrG3mivkdVtkaK3t98Qhf7sgRkEjCuF8Jf8ABQj4i%2BMfgyfixp%2Bp%2BFlfXYfD1/oWjnwZrH27SrDVL7yRIbdpFbXikTxgGwZN0yyRhThd3a/D79qf42%2BL4vg5rNxofhcaR458d654c8RXX2W7gu2%2Bx2%2BtSW8sNpI5awdxpcbywXDySwNM8DoJI2cL3WGpb8Gf8E9dX0f%2BytXu/jx4euvEHhHRtDsPBV7H4Fljs7SDSI75YXu7X7Tm6leO%2BuFZ45IAuQ0SRsDur23/AATltNO09dL0v426THFrMFlH45kfwnK0t%2BLbXLzWo/sDCUDTgLi/ukAYXGyPyQuGi3tJ4C/bP8UaT4htvHHxYGh2/gjxHp/i2TQYdM024Go2X9lXBghSVjM63cl1HuZY44omSUpEBMX3DIh/ae/aevf2btY%2BNGt2fgDwnfeHNb8QW%2Bt2mp2l5f7XtbpoLHTYYoZ4zPczMViaZZMGVVEVu/nBUVo3HqdVafslfHuw034gmx/au8J2%2BuePHmJ8WwfDy/XU7GMz/wCjwLKdSK%2BTb2zSQxJGsW138/PmNIZK2qfsM%2BLLvwfY%2BG9A%2BOfg/wAOTQeENT8JXbeHfAF3FbNot6YGYRQzXsrR3sbxOyXLySITO5khkODWb8aP2kv2gPg3dv4z1D/hFrnRtL%2BHWseNfE/hE%2BG7lNR0yxsdPLi3N%2BL9omnkvHjjUm2CtHFcEYMYzU%2BJn7S37UHwp8A/EbTtRsvAeq%2BLPAWj6Xrs2ow6fe2unvpt2lzlBbGeWSSdZrKaMHzo1KyJIQChid2QtTU8Wf8ABOXQ/Fujal8MpvjbDZ%2BA5bjW77Q9BsdDlW90y/1TS7rTp5Dds7LNEqX17IkRhB3zjc7KgWtW2/Yi8YzeJ7r4zz/HTwm/j%2BPU0vLfUl%2BH9wNIitxp401oTYG88ws0bbjKLkNuSNceWpQ1fiV%2B038SfCPxO1ybSbTQf%2BEO8IeMvDHhnXrS6sZ31G8udYms4vPgnWZY4Y4RqNo2xopDJsmAZDtrhY/22/2krf4Z6T4l/sTwy954/wDCHhzxL4dXTfB%2Bo6i2i6dfa1p9tdw3NtBdebfywW99DIskJhDukn7oADKaih6nZfDv/gnlB8MJdB8O%2BG/jtZy%2BGNG1PQNUlsr/AMOSyalNfaTpNtpluUvFkVYbd47OF3hEBJLTqrqspA2/A37Mn7Qfgq08Q3Nt%2B1b4STU9Z8anxJDNY/Dm8itvMkhEM9rcwyahI08DIFZQkkLpIitvYfJXmfxP/b68RfDXw9a%2BKz8QfBV5pem%2BE7zWr%2B%2BvPCt/p8niW4tb6WC70ixtprsyWN5bRwkSrN57q7qWjjVX26/xu/bE%2BMH7PfjbxRpvjPTfDd/Z2Xg/WNa0ezh0bULEQtDc2sNhG1/O5i1HzVuQ1wtrCDaEYYtmNpH7q6i1Pd/gP8GLH4J/C6w%2BHX/CcWupS29zeXd3erYyW8clxdXc11N5UIDeTEJJ3EcW5tkYRdzbcn1LwBbxQfa/Kvops%2BXnyg4x97ruUV4f%2BzZ8Tte%2BJ/g/UrvxR4p0bVtR0nXJLC7l0nw3qGjPEwhhlEdxp%2BoM09pNtmVtrO4eNopVIEoVfa/ht/y%2B/wDbP/2alU/hgtzqKKKK5CwooooAKKKKACuD8Z/8jLc/8A/9AWu8rg/Gf/Iy3P8AwD/0Ba2ofGTLY8o8Rfsjfso%2BMNdu/FHi39mL4eapqd/O099qOo%2BC7Gee5lY5Z5JHiLOxPUkkmqf/AAxF%2Bxf/ANGifC//AMIHTv8A4zXEfEX/AIKsfsD/AAn8d6t8NPiB8ef7P1vQ76Sz1Sy/4RfVZfInQ4ZN8dqyNg91JHvWL/w%2Ba/4Jr/8ARyH/AJZ%2Bs/8AyHXk1MdwrGo1OpQ5ru9/Z3v1vdXve9/MteJeKwy9is7nHl93l%2Bt1Va2lrKukrWtZJWtaytY9d8O/sjfso%2BD9dtPFHhL9mL4eaXqdhOs9jqOneC7GCe2lU5V45EiDIwPQggitX4%2BfCxvjf8FvFHwiTXhpb%2BItFnsYtSNr54tXdSFkMe9PMCtglNy7gCNy5yPJ/h1/wVY/YH%2BLHjvSfhp8P/jz/aGt65fR2el2X/CL6rF587nCpvktVRcnuxA969k%2BK3xL0L4PeAr34j%2BKLO8m03TXhOoNZRozW8DzJG9wwZlHlRK5lkOciONyAxAU%2BjgK2V16cngpQcb68nLa9uvKkr2/AiXEVXiN%2B2njHieTTmlVlV5etrynUa72TXe3U8j%2BI37CmqeMo5NL8R/EnQtRd/iJq3iTV7LVvBH2vS7x72FoWUWct2VEkTMZIZJHlVD96N%2BtZHwC/wCCe978FbvQr3UPjJFq76Hpa2EfleGjbCWJNAsNGjJzcyYYJYLKx6M0hUBQAa6j43/8FDPgh8H/ABDqcvi7S9XTT7bxTqOlS6u11psEDvZyQJcyQrcXkct0scszxGOCOSbfbTAREBC/O%2BEP27iNZ1Pw94w8K3epaunibVNJ0PQfDGlxrLfmLxNquk2wWa6vFj8ww6f5socRouyRw%2BGES9a5LIWp6Z4H%2BAseifs5W/7NPjXxDDrGjQeCrfwybi109rSWW1TT0tJWfMsg3ORI4xgIHVfmKl2zvgz8A/iD8N/Ed5448YfFjT/EOuahpOkaJdXsfhlrOM6Vpwu2gjEf2qTFy017PI8%2BSh3BRCoAxY/Za%2BNvij47/DhvGnibwXNpcjeINfs4z5aRpHHZa3fWEMLoZpHFwIbWNpTjyy7tsOPlXk/gF%2B0p8TPiN488NQeMrLQRoPxB8Oa3rfhWHTLGeK602GwvrSFIrqR5nW5eaG8jkLJHCI2idMOGDCtNA1KXgv8AYIu9MGutc%2BLvAt1rPiT%2By7OZ5fhJZrpN5b2129xK2oacs4S8uLlpT500b24zHCY0i2ENm6d/wTvOgaZ/wjvhr4q2dppusafYW/jKA%2BFFL3L2%2Bt3ustJpxS4RdN33OoXI2lJxGgh2bWj3tc%2BF/wC1v8TPHX7Q5%2BC0HibwZpmralrfiHT9I0aXQbq5vvDz6ZfCO2uNRQXkf2iK8tla5jCi2%2BV02NMu6QU7r44ftYP%2BzzqPxk0nx38O5rh/Etzp3g%2BI/D6/8vxAslzBYaaAv9sZt/PvPNYS75FNvPA%2B1Cjhp924amto37A/hy8uLPQvij44n13wt4dsLyx8F6NpsVzpN1psFxqlpqIM17bXQkmkhksLRInjEG1I2DiQuWr0L9m34A6T%2Bzf4AvvAOj%2BJ9U1aK98Wa1rZutW1O7upE%2B36hPdrCGup5n/drKqMwYea6vMyh5nz558MP2qvGXjP9o28%2BFWteIPDVtp%2Bn%2BILjw8LNvDWpQz6le22nJdTzW9%2Bztab/M87GnnMwt4jcGUgbK%2BgqpKO6B3CrWj/APH2/wD16z/%2BinqrVrR/%2BPt/%2BvWf/wBFPTewirRRRTAKKKKALWn/APHpff8AXqP/AEbHVWuS%2BJf7Sn7P3wG028m%2BMvxm8N%2BG2e0Bht9W1eKKeb94h/dxE75DgE4VT0rwq5/4Kq/CfxnO%2Bl/sv/Bn4jfFi63lI7jwv4VmhsFYcfvLm5CCNc8btpFediM1y3CVHCrVipfy3vL/AMBjzS/A%2BsyfgXjHP8P9ZwOBqSo/8/HHkpL1q1XSpL/wY/nsfUVFfLS6/wD8FZfjSfM0fwT8Nvg1pcvfWr59e1aMHoQIQLbp1DAHP405f%2BCdnxR%2BIP8ApH7SP7f/AMVfEzvzNYeF7yLw9YSeoaC3Vsj/AIEKw/tTE1v92ws5LvK1Nf8Akzcv/JEes%2BCcmy//AJG%2BdYak%2BsKPtMXNeX7iMaKf/cdrzZ9E%2BMfiT8O/h3a/bviB4%2B0XQoNufO1jVYbVMeuZGArybxZ/wVJ/4J%2BeBbG5sNb/AGpfDc0ouI2xo5m1EEBZAcNaRyA9R0Pesrwd/wAEpf2CvB91/acnwDtNbvmbdNfeJ9RudSeZvVluJGT8lAr2zwR8Ffg38OvD8sHw%2B%2BEvhnQkS5hCJo%2Bg29sF%2BWTp5aCk3n9XpSp/%2BBzf4ciFy%2BFWC0csbin5LDYaP/kzxNT%2Btj57/wCHvP7H2pc%2BCD438TKfuNoPgK/kD/TzI0o/4edW2r/u/A37DP7Qmss33JU%2BHRggP1kkmGPyr6gop/VM5l8WKS/w0o/%2B3TYf274c0f4WR1J/9fMdV/FUsPBfkfL/APw2n%2B2n4g/5ED/gl94tnDfcbxH430/Sse5EgbFJ/wALZ/4Kx%2BI%2BdG/ZK%2BGfhvd0HiHx3JebPr9lUZ/CvqGij%2BzMXL48ZUfp7OP5Qb/EP9dMho/7tw/hI%2Bc3iqz/APJ8TCL/APAUfM0nhr/gsV4m0uEav8S/gN4Yga4l2HQ9H1S9mQ7Uzn7SQp4x096gH7LP/BRzXv3nif8A4KbLYq33rTQfhNpyBfpK77/0r6qm/wCQLb/9fU3/AKDFVWksloS/iVasvWrNf%2Bk8gf8AER80pf7rgcDR/wAOCw7/ABq%2B3f4ny8f%2BCd3xV8Uny/it/wAFF/jPqcJ%2B/b%2BHtWg0dJPZhCjZX2qWw/4JC/sPSXS6l458D694vvUORe%2BKvGOoXLk%2BpCzIp/Fa%2BnKKpZBk7d50VP8AxuU//S5S/IUvFTxCjHlw%2BYToLtQjTw6/8oUaT%2B%2BTPKfBX7C/7Gvw8ZZfCX7MPge3lT7lzL4cgnmX6SSqzj869YTSdK0TSdP0/RtMt7S3S0ISC1hWNF/eydFUACm1a1D/AI9LH/r1P/o2Su%2BjhcNhrKjTjFeSS/JI%2BSzHOs6zifPmGKqVn3qVKk//AEucrfKxVoooroPMCu88Gf8AItW3/A//AENq4Ou88Gf8i1bf8D/9Dasa/wAA47mpRRRXKWFFFFABRRRQAUUUUAFFFFABRRRQAUUUUAFFFFABRRRQAUUUUAFFFFABXx1/wUlT%2Bzf2s/2VvFXTyfHur2G7/r508Lj8dlfYtfH/APwVkUabr/7N3irp5H7RWi2Jb0FzDcqf/QK8vOdMA5dpU391SmfoHhh73GdKl/z8pYqH/geDxa/Q9wooor6Q/OwooooAtTf8gW3/AOvqb/0GKqtWpv8AkC2//X1N/wCgxVVpIAooopgFWtQ/49LH/r1P/o2SqtWtQ/49LH/r1P8A6NkpPdAVaKKKYBRRRQBa1j/j7T/r1g/9FJVWrWsf8faf9esH/opKq0lsAUUUUwCrWuf8hq8/6%2BpP/QjVWrWuf8hq8/6%2BpP8A0I0uoHlXxK/ZT%2BF3xX%2BKtv8AFvxZJqbX0Hhm60SSytrtY7aeKaO4iWZwF3%2BfFFeX0cTq6hVvp8hiyleDk/4Ju/DC/uY7vxD8XvHmpyJpEOnN9qutORWih0vVdLhIWKyRYylrrFyAECqWSJ2Vm3mT6Hoo5UwueMaN%2BxJ4J8O%2BNdJ8YaB8UPGNpFoOuXes6NosdzYtZ2uoXOmT6dPchXtDI7MlxJLtd2QSnIUKzI3dePfgfZfFbVfDN6vj/wAQ%2BHdb8P37Ppfibw89qt5EJojBMhFxBLCyurZIMRwyIy7WRSOtq1of/Ias/wDr6j/9CFJpcrH1PKNR/ZZ8IN4K8LeBvCfjPxB4cg8CG0/4Qi60d7RptEEFjJYbYzcW8qzLJbTSo4nWXO/cu1lUi/4B/Zx%2BH3w21fwnq3hm41Jf%2BEN8IXnh3SYLi6WRHt7qazmnmlJXe87vZQkvuAJLkgkgjvqKdkI8Ot/2CfhnaxWotviH4vSbQ7eytfA9ytzZb/CdraXHnwW9kPsu14wQkZ%2B1LcM0caoSQKtXH7F%2BkLH4QTQ/jt460tvB/ie/8RwS2g0iRtR1a9%2B3C6vLkz6fJlpBqN2PLi8uJQ67EXYuPZ6KOVBc8r8M/sSfBM%2BKry%2B8YWtz4q0V7fWG03wb4pt7S80jSzf3K390YYWgDPvuYo5F895fJ27YvLUla5q1/wCCe3wg8MNpY%2BE3ijWvA0Ok%2BLNT8R29n4X0zRlt31C8wolaG4sJoybePfFAQoaNJGG5vlK/Qej/APH2/wD16z/%2BinqrS5VcdzhNT/Z68DeJNT8Uan40u9Q1v/hMvA1n4U8QQahJEsVxYW5vySFijTZJL/aM/mFcKdse1U288b4i/Yj0LxR8N/Evw/1f48ePpLrxetvb%2BIvE7yaU%2Bo3dlBA0MNll7BoUhXez7kiWUuzMZDubPttFOyEeUXn7JHhXV/Gdr4z8Q/EjxVqDfbNKvtd02eSxS117UNNcSWV7dJFaoVmjdIWxA0MbG3h3IwQCovAn7FPhHwNoN9Y%2BE/i745sZ7Lw/Y6T4Wv4NRtBL4c0y1vEmisbUfZtkkGdqOLpbhpEjjV2YIuPXKtaf/wAel9/16j/0bHSaVh3PErj9i7wddeGIPBc/xV8btpVxc3k/izTzqVt5Pil7u9%2B2XBvU%2Bz4XfKXU/ZRb/upGiH7vaodrX7Ffw98VanqE/jTx54u1rTrm21aLStE1HUoWg0RtSkElzLayLCtxvDD915ssohB2xBFAA9hop8qFdnIfCP4Pab8JYNbnXxZrHiDVfEmsjVNe13XTb/aby4FtBaoSttDDCirBbQRhY41GE3HLMzH1f4bf8vv/AGz/APZq5euo%2BG3/AC%2B/9s//AGaoq6U2NbnUUUUVxlhVXXdb0nwzol54k16/jtbHT7WS5vbmU4WGKNSzufYKCT9KtVi/EnwTYfEz4da/8ONUuZIbXxBot1ptzNEPmjjnhaJmHuA5IoA818Lftu/DLWfAHi34h%2BLPB/ijwnbeDfBlv4u1Oy8RWMH2mXQ54bmWC9iS1nmyJBZ3KiJisyvEVeNCVzUvP25PDdhNF4Zufgf46Xxg%2BryWEngVxpKahDssBqBnaVr8WZi%2BzkMCtwWLBk27o5AvPeAP2avj7PD4pvPjDo3w7vrrX/hPp/gUWKX15e6dNFZRagRc3EL28LSJdS6gyyWoceVFCAs0rSEr5zN/wTh8fahJL4v8XfDf4feKv7Q8Qm61X4ZeMvG2q6xpE0EekixtZ5dSvrOa4urmFzO6eZbhUjuBGhUwpIQD68%2BHHj7w38Vvh5oPxR8HXEsukeJNFtdV0qWeBone2uIVmiZkbBQlHUlTyDwa53xn/wAjLc/8A/8AQFrT%2BBngXxD8L/gn4P8Ahp4u8XS%2BINW8O%2BFtP0zVNen3b9SuILaOKS5bcS2ZHRnOSTluSetVPFupXFv4guIY47cgbMF7WNj9xe5Uk1tR%2BIUtjDoq1/bF3/zxtf8AwBi/%2BJo/ti7/AOeNr/4Axf8AxNdOpBVrM8a%2BD9A%2BIXg3V/APiuyFzpeuaZcafqVsektvNG0cifirEfjW7/bF3/zxtf8AwBi/%2BJo/ti7/AOeNr/4Axf8AxNGoHz54x/4Jy/CrVPDL/DwfFPx3bwHwtf8AhvXNRg1GyN5rsNzdSXU1zdSvaN/pDXUklwzQiJZHkYSI8eIxLD%2BwL8M7S%2BbX9O%2BIvi%2B21tdTl1K012K5sTcWl5JrF9qrzRq1oYSTLqNzEVeNk8lgu3cN5%2Bh9Y1W6j1e6jWK2IW5cDdZxE/ePUlcmq39sXf8Azxtf/AGL/wCJqUtNh3OA%2BCHwS0v4EeE08F%2BHfGeu6nYLeaheMuty28jvc3uoXN/PMzxwoxYyXTqBnaERON25mwfAf7J/hL4ceKG8U%2BG/HviYPa2d9Z%2BG7S4ls5IfD1re3sV5d29oDbZKSSwQj9%2BZmRIlSMooxXrv9sXf/PG1/wDAGL/4mj%2B2Lv8A542v/gDF/wDE07eQHn3g39nnS9P%2BM0fxP1L4leLNWuVe8i0Kw1W/glt9CF7NHJcm1IhEpJaNAnnSSiFAY4hHGShr6X%2Bzj4F0j4d/Dz4YWeo6oNL%2BGsunPoiNPGWuvsVo1tALk%2BXhwAwkOwJ%2B8jQjAG0%2BpaPqt1Jq9rG0VsA1ygO2ziB%2B8O4XIqt/bF3/AM8bX/wBi/8AiaVtdgPLE/Zh8GJ8X4fi0PE%2Bu7LbxBLr9t4Z863GmxavJYPp73wAh8/zGtpJFKGYw7pGk8vzDvr0mrX9sXf/ADxtf/AGL/4mj%2B2Lv/nja/8AgDF/8TVaroIq1a0f/j7f/r1n/wDRT1x3xn/aa%2BD37PHhs%2BLfjZ8R/D/hyxIPktqMcIknI6rFEFMkzf7KKx9q8Jsf29v2pf2kZ20/9hH9lRptMmhkEfxH%2BJ9mNK0nZsb97Bbqv2i7THIK45GCpGa87F5rg8JP2UpXn/JFOUv/AAGN2l5vlXmfW5JwPxJn2FeNo0lTwydnXrSjRoJ9V7Wo4xk1/LTVWf8AcPpq4uLe0ge6up0iijUtJJIwVVUckknoK8K%2BLH/BSz9jP4S6h/wjt18YbXxFrjP5dv4f8GQvq15NL/zzC24ZFf2dlrkov%2BCc3iH4430fib9vj9orXviVPuEi%2BEtJP9i%2BHrZuoAtrUq0pXgCRmUsPvA17/wDCb4K/Br4E6YNJ%2BDnwi8LeG4tgWRtJ8PW0Uko/6aSBN8h92JNc/tc7xX8OnGjHvN88/wDwGNor5zfmeu8D4bZG7YrE1swqreOHSoUL9vbVoyrTXnDDwT6PZnz6n7S3/BQz48N/xjr%2Bx5YeBdIlGYfEnxn1J4JXU/8AUPtczRsByNxZTmnN%2BxV%2B2D8Wxn9pT/goL4jisZf9d4f%2BF%2Bkw6JGq90%2B1ANLIp6HcuccV9Yf2xd/88bX/AMAYv/iaP7Yu/wDnja/%2BAMX/AMTR/Y6ra4qrOp5OXLH/AMBp8qt6yYv%2BIh1sB7uR5fhsGltJUlXrerr4r20r%2BcadPySPDfgt/wAE3P2LPg79s1nQfgTpOq6sIRK%2BueKVbVbx5fNTMokui%2Bxzk8oF6n1Ney29tb2cCWtpAkUUahY441CqoHQADgCtax1W6a2vGMVt8tsCMWcQ/wCWqDn5eeveq39sXf8Azxtf/AGL/wCJr0MLhMLg4uFCnGC8kl%2BS1%2BbZ8pnHEGe8Q4j2%2BaYupXn3qTlO3pzSaivKKivIq0Va/ti7/wCeNr/4Axf/ABNH9sXf/PG1/wDAGL/4munU8cq1ah/5Atx/19Q/%2Bgy1ma98TPDHhXH/AAlHifQtNyMj7ebaHI9fnArBl/a1/ZysrKa1vf2g/h7DP9ojxDL4h05WI2yZO0vz25xxn3rGpiKNN2nOK9ZJfm0YzxOGpO05xXq0vzaOnorl7T9qH4EX7BbH43%2BA5iegi1nT2z%2BTVpx/G34dSxfaIviH4WaP%2B%2Bt1ZkfnRHE0JbTi/wDt5f5hHE4aXw1Iv/t6P%2BZq0VhXH7QfwktP%2BPr4reDo/wDrpqNiv8zVYftOfA1pPKX41%2BBS390axp%2Bf/QqHicOt5x/8Cj/mJ4rCrepH/wACj/8AJHYTf8gW3/6%2Bpv8A0GKqtc5r37VX7Pnhvw9DqXiD48%2BAbGH7RLmW917T4kACx8/MwA78/wCFeb%2BIv%2BCp37CHhd2j1L9qLwVKU6/2ciXg/AwRvn8KwqZjgKC/eVoR9ZxX6mFbM8sw/wDFrwj6ziv/AG49ror5qn/4LO/sN3MrWvg/x/qXiWdTg2%2BgfD29lbPoN1soP503/h61Yatx4E/Yi%2BPOvg/6u4svhQiQH6vI4wPwrl/t/Jn8NeMv8Lcv/SYyOP8A1jyF/DiIy/w3l/6RGR9L1a1D/j0sf%2BvU/wDo2Svl7/h4F%2B1nrf8AyJP/AATA8eT5%2B5/bt7pmmZ%2BvmBsVNdftMf8ABVXxLBbDRP8Agnl4P8NK0J8qXxJ8SbG8BG9vmK20QK85G32z3pPPMG37kZy9KdR/nBIP7fwEvgjUl6Uqr/FwivxPpGivmj%2B2P%2BCzfiHnyf2cPDsLdAbHU7u4T/x3Yaab7/gsb4HP22O%2B%2BA3jm3PzS2T6Vd6bcg/3Y3CmPHu/NP8AteW/1atbvyfpz3/AP7a6/Va1u/s/09pf8PkfTNd54M/5Fq2/4H/6G1fFa/tjf8FIdFHleJv%2BCXMVzs4a70T4maPKsnusbRbgPYnNfV/7Nnjzxn8Tvgrovjj4g/C678F6xfC4%2B2eGb%2B4illsylzLGuXhwh3qiyDHZxnnNXTzHD4t8kFJNa%2B9CcfxlFL8TrwWZ4XG1XTpqaaV/epzh%2BMopfJM7miiitT0wooooAKKKKACiiigAooooAKKKKACiiigAooooAKKKKACiiigArwn4HXHjfw/8evjzo9z451/xMLLUNMvtGstb1Ayx2jT2DS/ZbaNQqQRA7ECooLbdzl5Gd292rhtA/Zh/Zq8J%2BNrj4leFv2efA2m%2BI7u4M914g0/wlZw3s0pbeZHnSISMxb5txOc89aAPC/2CvF3ii98TeFYZvif4g8UQ%2BMPgJoPi/wATSa5r1xfrBq9zK4M8KzOws0uN04%2BzxBIV%2BxgJGu1s5/8AwWWUWnwR%2BGHiYuE/sT4%2BeF77e2fl2yzJnj/fr6e8E/Cr4X/DS41O6%2BHHw30Dw/LrV4bvWJNE0eC0a/uCSTLMYlUyvlm%2BZsnk8818wf8ABcX/AEP9gjUPE/T%2BxPGWg327%2B7t1CJM/%2BP15Wef8ieu%2B0W/ucZf%2B2n6B4U6%2BJGVQ/nrRh/4MjVp/%2B5D3j%2Bz7T/oOWv8A3xL/APEUf2faf9By1/74l/8AiKq0V9JZ9z87LX9n2n/Qctf%2B%2BJf/AIij%2Bz7T/oOWv/fEv/xFVaKLPuBpy2NqdIgT%2B2LYAXMpDbZcH5Y%2BPuZ//XVb%2Bz7T/oOWv/fEv/xFE3/IFt/%2Bvqb/ANBiqrSSfcC1/Z9p/wBBy1/74l/%2BIo/s%2B0/6Dlr/AN8S/wDxFVaKdn3Atf2faf8AQctf%2B%2BJf/iKs31jatbWYOsWwxbEAlZfm/evyPk/Dn0rMq1qH/HpY/wDXqf8A0bJSad1qAf2faf8AQctf%2B%2BJf/iKP7PtP%2Bg5a/wDfEv8A8RVWinZ9wLX9n2n/AEHLX/viX/4ij%2Bz7T/oOWv8A3xL/APEVVoos%2B4GnqtjatcqW1i2X/RoRhll/55LzwnfrVb%2Bz7T/oOWv/AHxL/wDEUax/x9p/16wf%2BikqrSSdtwLX9n2n/Qctf%2B%2BJf/iKP7PtP%2Bg5a/8AfEv/AMRVWinZ9wLX9n2n/Qctf%2B%2BJf/iKs6xY2r6vdO2sWyk3Lkqyy5HzHg4TFZlWtc/5DV5/19Sf%2BhGlZ33AP7PtP%2Bg5a/8AfEv/AMRR/Z9p/wBBy1/74l/%2BIqrRTs%2B4Fr%2Bz7T/oOWv/AHxL/wDEVZ0extU1e1ddYtmIuUIVVlyfmHHKYrMq1of/ACGrP/r6j/8AQhSadnqAf2faf9By1/74l/8AiKP7PtP%2Bg5a/98S//EVVop2fcC1/Z9p/0HLX/viX/wCIo/s%2B0/6Dlr/3xL/8RVWiiz7gaelWNqtyxXWLZv8ARphgLL/zybnlO3Wq39n2n/Qctf8AviX/AOIo0f8A4%2B3/AOvWf/0U9VaVnfcC1/Z9p/0HLX/viX/4ij%2Bz7T/oOWv/AHxL/wDEVVop2fcC1/Z9p/0HLX/viX/4irNjY2q214BrFsc2wBIWX5f3qcn5Pw49azKtaf8A8el9/wBeo/8ARsdJp23AP7PtP%2Bg5a/8AfEv/AMRR/Z9p/wBBy1/74l/%2BIqrRTs%2B4Fr%2Bz7T/oOWv/AHxL/wDEV0fgC3ig%2B1%2BVfRTZ8vPlBxj73Xcorkq6j4bf8vv/AGz/APZqzqp8jGtzqKKKK5CwooooAKKKKACuD8Z/8jLc/wDAP/QFrvK4Pxn/AMjLc/8AAP8A0Ba2ofGTLYy6KKK6iQooooAta5/yGrz/AK%2BpP/QjVWrWuf8AIavP%2BvqT/wBCNVaS2QBRRRTAtaH/AMhqz/6%2Bo/8A0IVVqzozpHrFo7sFVbmMkk4AG4V8pfE39uLx78ZPHF5%2Bz9/wT08NWXizX7STyfEfxC1DJ8PeG89cyrkXc4GcRx5Gefn2uo4sZj8PgUnUer0jFK8pPtGK1f4JLVtLU%2Bh4d4XzfievOGDilCmuapVnJQpUobc1WpL3Yrol705v3acJyaR7P%2B0D%2B058Dv2XvCQ8Y/Gzx9aaPbysUsbU5kur6T/nnBAgLytyM7RgZySBzXhQ%2BMH7f/7YJ8j4AfDlPgr4JuOnjbx9ZLPrd1Ef47XTs7YsjkGUkEEFXB4ro/hN%2Bxn8Ff2ctUm/aU/ac%2BKSeNPHu0PqHxE8e3cUMNgeTss45G8qyjHO3b8wBIDAHbVfxP8A8FVP2cJddl8G/AXQ/F3xc1yI7ZLD4ceHZb2OI9me4bZEE/2lZgK8XFYirOzx9dUIPanGX7x%2BsleX/btOP/b7PbxvFPh5wHangYwxuK/5/wCIi/ZJ/wDUPg/iqJdKmJUr7qhFaGz8F/8AgnF%2Bz98MfEw%2BJ3j1NT%2BJPjlyGn8ZfEG7OoXKuOR5Mb/u4ApJ27V3KONxr6I0cAXTgD/l1n/9FPXyl/w0r/wUm%2BInyfDD9gLS/C9u/wDqdV%2BIfjyH82tbZfNXHpmptO%2BA/wDwVK%2BKVww%2BIv7avg7wBA8EpuLH4b%2BCPtjMnlsSi3F%2BwkjyMjcMkVrhsXg8NSdPA4Wo0%2B0OVN93Ko4tvzd2fBZ3x7nnFOLWIxn1jEzStFyjyRjHpGCm6UIQXSNOnCKWyPpxmVFLuwAAySTwBXCePf2pP2bPhdby3HxD%2BPfg/R/JBLxX3iK3SU47CPfvY%2BwBNeMR/wDBJ74I%2BL3F1%2B0X8Xfif8UpmOZIvF/je4FsD/sRWxi2L/s7jXd%2BBf8AgnX%2Bw38OJornwt%2By74QE0BDQz6jpa3siEdCGufMIPvnNdXts9q/DRpw/xTcn90Ipf%2BTHi%2B34hrfBQp01/fqSk/upxS/8mOEvP%2BCqXwt8aXUmj/srfBb4h/Fy8VyguvC/hqWDTkccYlu7kIIxnjdtYU2LxF/wVx%2BK7jU9F%2BH/AMKPhVYY3R6d4j1K41rUGz0DPa4hAx1xg5r6hs7Oz061jsdPtY4IIUCRQwxhURR0AA4A9qko/s7HV9cTipelNKmvv9%2Bb/wDAkH9mZhiNcVi5elNKmvv9%2Bb%2BckfM1p8Pv%2BCvdzb3UR/aG%2BDVtGbcebLD4TvHcL5ifdDNjOcdarH9mX/gpV4l/d%2BKf%2BCkdhpMDf6238N/Cqx3EeiyyvuX64r6s0/8A49L7/r1H/o2OqtCyXDtvmq1X61Z/pyj/ALCw0vjq1petaf6cp8uj/gmx4p18/aviL/wUK%2BP2o3PcaR4zTTYM98RRxMB%2BdKf%2BCU3wov8A9z4r/aU%2BOWu2x/1tnq/xMneKT/eCIp/WvqGin/YOUP4qV/WU3%2BdRh/q7kr%2BKjf1lN/feo7/cfOGgf8Ekf%2BCe%2BgEyn9ni11CdzulutZ1m%2Bu5JG9T5s7D8gK6%2Bx/4Jx/sIWuhTpH%2Byd4HbbcxAPLoUTsAVkyNzAnsO/avYKtQ/8gW4/wCvqH/0GWtI5NlFNWjh6a/7cj/8izankeSUlaGFpr/tyH/yLPBrv/gmx%2BwZegrN%2Byp4OXP/ADy0sR/%2BgkVmSf8ABKv/AIJ8SS%2Bc37L%2Bgg%2Biz3IH5CXFfQVFU8nyiW%2BHp/8AgEf/AJEJZHkst8LT/wDAIf8AyJ4LB/wS%2B/YAtseX%2By14ZOP%2Bekcr/wDoTmrJ/wCCaf7BRj8s/sq%2BEMeo07n885r3GihZPlK2w9P/AMAj/wDIjWSZKtsNT/8AAIf/ACJ41pf/AATZ/YL0G2h1Wx/ZQ8FvM1xIG%2B2aQtwhAWMgbJdy9z2713Ph34CfAvweix%2BEvgv4T0tU%2B4uneHLWAL9NiDFdtN/yBbf/AK%2Bpv/QYqq1rRwGAofw6MI%2BkYr8om9HLcuw7/dUYR9IRX5RGQW8FrEILaFI0UYVEUAD8BT6KK7DsCrWof8elj/16n/0bJVWrWof8elj/ANep/wDRslJ7oCrRRRTAK7zwZ/yLVt/wP/0Nq4Ou88Gf8i1bf8D/APQ2rGv8A47mpRRRXKWFFFFABRRRQAUUUUAFFFFABRRRQAUUUUAFFFFABRRRQAUUUUAFFFFABXyl/wAFtNK/tn/gmj8R7TbnZDYz4/65X0Ev/slfVtfO/wDwVe0r%2B2f%2BCfPxRtNudnhS7nx/1yheX/2SuDNYe0yrER705/8ApEj7Hw7xP1TxByev/LisO/8AyvS/zOm8Har/AG74R0rW92ftmmwT59d8at/WtKuJ/Zp1X%2B3f2cfh/re7d9s8E6VPuz132cTf1rtq9rDz9pQhPuk/vSf6nzOaYb6nmmIw/wDJUqR/8BnOP/toUUUVqcBam/5Atv8A9fU3/oMVVatTf8gW3/6%2Bpv8A0GKqtJAFFFFMAq1qH/HpY/8AXqf/AEbJVWrWof8AHpY/9ep/9GyUnugKtFFFMAooooAtax/x9p/16wf%2BikqrVrWP%2BPtP%2BvWD/wBFJVWktgCiiimAVa1z/kNXn/X1J/6Eaq1a1z/kNXn/AF9Sf%2BhGl1Aq0UUUwCrWh/8AIas/%2BvqP/wBCFVataH/yGrP/AK%2Bo/wD0IUnswKtFFFMAooooAtaP/wAfb/8AXrP/AOinqrVrR/8Aj7f/AK9Z/wD0U9VaXUAooopgFWtP/wCPS%2B/69R/6NjqrVrT/APj0vv8Ar1H/AKNjpPYCrRRRTAK6j4bf8vv/AGz/APZq5euo%2BG3/AC%2B/9s//AGas6v8ADY1udRRRRXGWFZvjPxZo3gHwfq3jrxHM0enaLpk9/fyIu4rDDG0jkDuQqnitKs3xl4T0bx74Q1XwN4jgaXTta02ewv4lbaXhmjaNwD2JVjzQB4ho/wC3BrGkfDfx744%2BMXwa/sG98EfC%2B18ff2PpHiEaibzSbiG%2BkjjMjwQCK6VtPnSSPDxoWjYSuGJXC8Zf8FFZfh7LN4C8beDvA%2Bk%2BOLbxHHp11Z6l8T1t9Btrd9MGoreS6rJZK0alCsAQ224zOgA8thLXV/C/9lH4oeCJNZ1XxN8fLHVtX1XwHY%2BEYdWt/BawNa2FjHd/ZJhFLczxSXPnXs8szOhimxGghiVTu5bwf/wTvuPh/Jb%2BPPBPjHwPpHjiz8RSahaXel/DAW2gW9s%2BmnT3s49KjvlZFKM85cXO8zO5J8tjDQB9GeE9ZuvEfhbTPEN9pRsZ7/T4biaxN1HP9nd0DGPzIiySbScbkJVsZBIINcn4z/5GW5/4B/6AtafwO%2BFelfAv4LeEfgnoWp3F7ZeEPDNhotpeXePNnitbdIFdwoADEICQAAM4AAqp4t1XVLbxBcQ2%2BpXEaLs2okzAD5F7A1tRvzClsYdFWv7c1r/oMXX/AIEN/jR/bmtf9Bi6/wDAhv8AGunUgq0Va/tzWv8AoMXX/gQ3%2BNH9ua1/0GLr/wACG/xo1ANc/wCQ1ef9fUn/AKEaq1p6xrGrxavdRRarcqq3LhVWdgANx461W/tzWv8AoMXX/gQ3%2BNJXsgKtcB%2B0V%2B018Hf2WfArePvjD4oWygkfytO0%2BBPNvNSn7QW8I%2BaVzkdOBnLFRzXnv7fX/BSzwl%2BxX4WXSYNYGs%2BOtUgLaJ4cfUSiQoTj7Vdvn9zAD06NIRtX%2BJl%2BOf2ef2TP2sf%2BCjPxIT9pj9of4ja5peh3KgQ%2BK5laC/vbYkn7NosD/wDIPszkj7Sw8yVeQP3kq18zmuf1KWJ%2BoZfD2uIe6%2BzDzk9vldeb2T%2BrwuWZPk2BpZnxBKXLUTdDDUmliMSk7cyck44fDKStPFVVZtSjh6deovc6H43/ALW%2BuftF%2BJoPCn7Svi7XfA/g%2B9uFjsfgR8NEOoeNfFCk/wCqvzDxYq6/8u7FGIJUgkK9es/C/wALft6%2BOfBdl8OP2ePg/wCFP2Zfh3bJts5dUt01XX3jPWRbYYijduS3nnzN3O4nmvpf9mL9ln4A/stfZ9E%2BBPwz0/QfPljjvb6BS93eLuGRNcOWllGecMxAzwBXoH9ua1/0GLr/AMCG/wAajB5DjHUdbGV25yWvK7Nrtz25lH%2B7TVOPq9TxeIeIuJOKsPDBYiccJgabvDCYW8KcXa3NUqyvWr1WtJVZtSeqj7OPuHy74U/4JY/AG51uHxt%2B0Z4m8VfGDxDGdy3/AMQdbkuLaFj1EVohWJY/9hg4FfQ/hbwh4T8DaLF4b8E%2BF9O0fToBiCw0qyjt4Yx/spGAo/AVt/25rX/QYuv/AAIb/Gj%2B3Na/6DF1/wCBDf4172Fy/B4K/sKai3u%2Br9ZO8n85M8DB5Zl%2BAv8AV6Si3u7e8/WTvJ/OTKtWtH/4%2B3/69Z//AEU9H9ua1/0GLr/wIb/GrOlaxq8lyyyarcsBbTHDTseRExB6%2BtdbvY7jMoq1/bmtf9Bi6/8AAhv8aP7c1r/oMXX/AIEN/jT1Aq0Va/tzWv8AoMXX/gQ3%2BNH9ua1/0GLr/wACG/xo1ANP/wCPS%2B/69R/6NjqrWnY6xq7214z6rckrbAqTO3B81Bkc%2BhP51W/tzWv%2Bgxdf%2BBDf40le7Aq0Va/tzWv%2Bgxdf%2BBDf40f25rX/AEGLr/wIb/GnqBVq1D/yBbj/AK%2Bof/QZaP7c1r/oMXX/AIEN/jVmLWNXOkTynVbncLmIBvPbIBWTI6%2Bw/Kk7gZlFWv7c1r/oMXX/AIEN/jR/bmtf9Bi6/wDAhv8AGnqBVoq1/bmtf9Bi6/8AAhv8aP7c1r/oMXX/AIEN/jRqATf8gW3/AOvqb/0GKqtacusauNIglGq3O43MoLee2SAseB19z%2BdVv7c1r/oMXX/gQ3%2BNJXAq0Va/tzWv%2Bgxdf%2BBDf40f25rX/QYuv/Ahv8aeoFWrWof8elj/ANep/wDRslH9ua1/0GLr/wACG/xqzfaxq6W1myarcgtbEsRO3J81xk8%2BgH5Une6AzKKtf25rX/QYuv8AwIb/ABo/tzWv%2Bgxdf%2BBDf409QKtd54M/5Fq2/wCB/wDobVxv9ua1/wBBi6/8CG/xrtfCU89z4ft5riZ5Hbfud2JJ%2Bdu5rGtflKjuaNFFFcxQUUUUAFFFFABRRRQAUUUUAFFFFABRRRQAUUUUAFFFFABRRRQAV8hfspfELxnJ8SfAviXWfiL4i1S58efD/wAZa1460q/1u5vbewvrDWdOhhW3tpHaOyFv9purXyoFjEm0bw7xbq%2Bva5fS/gh8FtE8TX/jXRfhD4Xs9Z1S%2BS91PVrXw/bR3V3coWKTyyqgeSRS7kOxLDe2DyaAPmT/AIJl%2BMfi3quvLa/FPxdqd%2BPEPwf8MeJtNN340u9bXUvtMl6JNUkFzxpVxOBFu0%2B2L2sez91NLtbZ7H%2B35oyeIf2M/iborzIhufAesxrvBO5m0%2B4AAwDzz/8AXrvvAXwh%2BE3wrl1Gf4YfC/w74bfV7gXGrPoOiQWZvZQWIkmMSL5jfM3zNk/MfU1h/tO6V/bvwQ8Q6Jt3fbNJu4NvrvtpV/rWVeHtaE4d4yX3xkv1PUyPE/U88wmI/kq0pf8AgNWnL/208a/YDuLbXP2IPhJfvrVsGHw70iJgyyZBjtI4znCEZ%2BWvXf7PtP8AoOWv/fEv/wARXzr/AMEsdV/tn/gn38L7vdnZoDQZ/wCuVxLF/wCyV9AVplM3UyrDzvvTh/6TE9Tj3D/U%2BO82ofy4rEL/AMr1f8y1/Z9p/wBBy1/74l/%2BIo/s%2B0/6Dlr/AN8S/wDxFVaK9Cz7nyZpy2NqdIgT%2B2LYAXMpDbZcH5Y%2BPuZ//XVb%2Bz7T/oOWv/fEv/xFE3/IFt/%2Bvqb/ANBiqrSSfcC1/Z9p/wBBy1/74l/%2BIo/s%2B0/6Dlr/AN8S/wDxFVaKdn3Atf2faf8AQctf%2B%2BJf/iKs31jatbWYOsWwxbEAlZfm/evyPk/Dn0rMq1qH/HpY/wDXqf8A0bJSad1qAf2faf8AQctf%2B%2BJf/iKP7PtP%2Bg5a/wDfEv8A8RVWinZ9wLX9n2n/AEHLX/viX/4ij%2Bz7T/oOWv8A3xL/APEVVoos%2B4GnqtjatcqW1i2X/RoRhll/55LzwnfrVb%2Bz7T/oOWv/AHxL/wDEUax/x9p/16wf%2BikqrSSdtwLX9n2n/Qctf%2B%2BJf/iKP7PtP%2Bg5a/8AfEv/AMRVWinZ9wLX9n2n/Qctf%2B%2BJf/iKs6xY2r6vdO2sWyk3Lkqyy5HzHg4TFZlWtc/5DV5/19Sf%2BhGlZ33AP7PtP%2Bg5a/8AfEv/AMRR/Z9p/wBBy1/74l/%2BIqrRTs%2B4Fr%2Bz7T/oOWv/AHxL/wDEVZ0extU1e1ddYtmIuUIVVlyfmHHKYrMq1of/ACGrP/r6j/8AQhSadnqAf2faf9By1/74l/8AiKP7PtP%2Bg5a/98S//EVVop2fcC1/Z9p/0HLX/viX/wCIo/s%2B0/6Dlr/3xL/8RVWiiz7gaelWNqtyxXWLZv8ARphgLL/zybnlO3Wq39n2n/Qctf8AviX/AOIo0f8A4%2B3/AOvWf/0U9VaVnfcC1/Z9p/0HLX/viX/4ij%2Bz7T/oOWv/AHxL/wDEVVop2fcC1/Z9p/0HLX/viX/4irNjY2q214BrFsc2wBIWX5f3qcn5Pw49azKtaf8A8el9/wBeo/8ARsdJp23AP7PtP%2Bg5a/8AfEv/AMRR/Z9p/wBBy1/74l/%2BIqrRTs%2B4Fr%2Bz7T/oOWv/AHxL/wDEV0fgC3ig%2B1%2BVfRTZ8vPlBxj73Xcorkq6j4bf8vv/AGz/APZqzqp8jGtzqKKKK5CwooooAKKKKACuD8Z/8jLc/wDAP/QFrvK4Pxn/AMjLc/8AAP8A0Ba2ofGTLYy6KKK6iQooqrrmt6P4Z0a78R%2BItUt7GwsLZ7i9vbuURxQRIpZ5HZuFUKCSTwAKTaSuxNqKu9jU1z/kNXn/AF9Sf%2BhGvlP9rb/goWngrxZ/wzH%2ByN4cHxD%2BMWp7obfSdPIktNDPQz3suQibM5MZYbcZkaMFd3z5%2B2Z/wUc%2BO/7Y/wASIf2X/wDgn1p9/Z6f4qvpobfxdte3u9Xtw7LLcQZAa0sUw265YB3KsqbdjivrH9hP9hD4X/sPfDT/AIR7w0i6n4m1NFk8UeKZ4sTX8w52LnJjhUk7Uz/tNliTXyqzXEZ3iJYXLXy046Trf%2B20095W%2B0/ditUnpff%2Bzs0qZXSzO6o0Kt3Rco8066TadSlTloqCknH29RclSScaEKqjOpHyP9lj/gkf4b8PeMpf2h/21vFQ%2BJ/xH1O5F5dpfZk0yzn7YRgPtDL0UuojUABY12g19noiRoI41CqowqgYAFLRXuZflmCyuj7PDQtfVveUn3lJ6t%2Bbf3HMoN1p1qkpTqTs5Tm3KcmkkuaT1dkkorSMYpRhCEUoq1of/Ias/wDr6j/9CFVataH/AMhqz/6%2Bo/8A0IVVru6lhRRRTAKtaP8A8fb/APXrP/6KeqtWtH/4%2B3/69Z//AEU9J7AVaKKKYBRRRQBa0/8A49L7/r1H/o2OqtWtP/49L7/r1H/o2OqtJbsAooopgFWof%2BQLcf8AX1D/AOgy1Vq1D/yBbj/r6h/9BlpMCrRRRTAKKKKALU3/ACBbf/r6m/8AQYqq1am/5Atv/wBfU3/oMVVaSAKKKKYBVrUP%2BPSx/wCvU/8Ao2SqtWtQ/wCPSx/69T/6NkpPdAVaKKKYBXeeDP8AkWrb/gf/AKG1cHXeeDP%2BRatv%2BB/%2BhtWNf4Bx3NSiiiuUsKKKKACiiigAooooAKKKKACiiigAooooAKKKKACiiigAooooAKKKKACue%2BJUEdz4eW2mXKSThXHqCjA10NYPxD/5AsX/AF9L/wCgtV0/jQXa1R8Yf8EdJ5B/wT38FaPcNmXS73WLOU%2B6ardEfowr6dr5f/4JL/6F%2Bzn4k8MdP7E%2BKniKx2/3dt2Xx/4/X1BXLw//AMiPDLtCK%2B66/Q%2B88V0v%2BImZxNfbxFSf/gxxqf8AuQKKKK9c/Py1N/yBbf8A6%2Bpv/QYqq1am/wCQLb/9fU3/AKDFVWkgCiiimAVa1D/j0sf%2BvU/%2BjZKq1a1D/j0sf%2BvU/wDo2Sk90BVooopgFFFFAFrWP%2BPtP%2BvWD/0UlVatax/x9p/16wf%2BikqrSWwBRRRTAKta5/yGrz/r6k/9CNVata5/yGrz/r6k/wDQjS6gVaKKKYBVrQ/%2BQ1Z/9fUf/oQqrVrQ/wDkNWf/AF9R/wDoQpPZgVaKKKYBRRRQBa0f/j7f/r1n/wDRT1Vq1o//AB9v/wBes/8A6KeqtLqAUUUUwCrWn/8AHpff9eo/9Gx1Vq1p/wDx6X3/AF6j/wBGx0nsBVooopgFdR8Nv%2BX3/tn/AOzVy9dR8Nv%2BX3/tn/7NWdX%2BGxrc6iiiiuMsKzfGfizRvAPg/VvHXiOZo9O0XTJ7%2B/kRdxWGGNpHIHchVPFaVZvjLwno3j3whqvgbxHA0una1ps9hfxK20vDNG0bgHsSrHmgDxDR/wBuDWNI%2BG/j3xx8Yvg1/YN74I%2BF9r4%2B/sfSPEI1E3mk3EN9JHGZHggEV0rafOkkeHjQtGwlcMSsHir9vG4%2BHfwt8fa147%2BGenyeN/BF1BaQeDfDPir7fDq9zc2C31qsN29tCyIYvNeVmgBhjtppdrxqrNq/C/8AZR%2BKHgiTWdV8TfHyx1bV9V8B2PhGHVrfwWsDWthYx3f2SYRS3M8Ulz517PLMzoYpsRoIYlU7uQ03/glz8Kb7wL4g0zxpqNpbeItZF0LDUvhvaXvhPTtIWWwSyCQWFhffOm1XkdZpZPMeeb7qPsAB9HeBvEv/AAmngnR/GP2L7N/a2lW959m8zf5Xmxq%2BzdgbsbsZwM46CuX8Z/8AIy3P/AP/AEBa3fhX4CtPhZ8NNA%2BGthqd1ew6Do9vYR3d7dSzSzCKNU3s8zu5Jxn5nYjOMnFZXi3VdUtvEFxDb6lcRouzaiTMAPkXsDW1G/MKWxh0Va/tzWv%2Bgxdf%2BBDf40f25rX/AEGLr/wIb/GunUgq1%2Bbv/BUP9sjUPjj8RYv2KfghZ3GuabBq8dn4mtNLmIk8S6sGDR6LEyEEQRnbJdSAgIAFLI20P7h/wVa/4KKa7%2BzB8OJPhR8LPF1yvj7xFpzy/aobhmOgacT5b3zDPEjMfKhUkbpDnPyhWx/%2BCTv7AM37OnhS1/aF%2BLFjIvj7W9P/AOJdaXEhZ/D9jL85i3HBN1LuLTPgEFigCgNu%2BOznFYnOMb/Y%2BDdlvWn0jH%2BXzlLqvk9OY9rIcpy3MVVzPN482XYaSjKF2ni8RZTjhItWapxi41MbUi7wouNGLVXELk9T/Yl/YotP2WNDvvFHj68tNZ%2BJPiJU/wCEq123gVIbdEAWPTrNAAIbSEKqIihQQinACoie71p6xrGrxavdRRarcqq3LhVWdgANx461W/tzWv8AoMXX/gQ3%2BNfT4LCUcDhY0KMbRX9Nt9W3q31f4Z55neY8RZnUx%2BNlecrLRKMYxilGEIRVowpwiowhCKUYxiklu3Voq1/bmtf9Bi6/8CG/xo/tzWv%2Bgxdf%2BBDf411ankhof/Ias/8Ar6j/APQhVWtPR9Y1eXV7WKXVblla5QMrTsQRuHB5qt/bmtf9Bi6/8CG/xpa3Aq0Va/tzWv8AoMXX/gQ3%2BNH9ua1/0GLr/wACG/xp6gVataP/AMfb/wDXrP8A%2Bino/tzWv%2Bgxdf8AgQ3%2BNWdK1jV5Lllk1W5YC2mOGnY8iJiD19aTvYDMoq1/bmtf9Bi6/wDAhv8AGj%2B3Na/6DF1/4EN/jT1Aq0Va/tzWv%2Bgxdf8AgQ3%2BNH9ua1/0GLr/AMCG/wAaNQDT/wDj0vv%2BvUf%2BjY6q1p2Osau9teM%2Bq3JK2wKkztwfNQZHPoT%2BdVv7c1r/AKDF1/4EN/jSV7sCrRVr%2B3Na/wCgxdf%2BBDf40f25rX/QYuv/AAIb/GnqBVq1D/yBbj/r6h/9Blo/tzWv%2Bgxdf%2BBDf41Zi1jVzpE8p1W53C5iAbz2yAVkyOvsPypO4GZRVr%2B3Na/6DF1/4EN/jR/bmtf9Bi6/8CG/xp6gVaKtf25rX/QYuv8AwIb/ABo/tzWv%2Bgxdf%2BBDf40agE3/ACBbf/r6m/8AQYqq1py6xq40iCUarc7jcygt57ZICx4HX3P51W/tzWv%2Bgxdf%2BBDf40lcCrRVr%2B3Na/6DF1/4EN/jR/bmtf8AQYuv/Ahv8aeoFWrWof8AHpY/9ep/9GyUf25rX/QYuv8AwIb/ABqzfaxq6W1myarcgtbEsRO3J81xk8%2BgH5Une6AzKKtf25rX/QYuv/Ahv8aP7c1r/oMXX/gQ3%2BNPUCrXeeDP%2BRatv%2BB/%2BhtXG/25rX/QYuv/AAIb/Gu18JTz3Ph%2B3muJnkdt%2B53Ykn527msa1%2BUqO5o0UUVzFBRRRQAUUUUAFFFFABRRRQAUUUUAFFFFABRRRQAUUUUAFFFFAHNfGYeMz8H/ABWPhyZP%2BEh/4Rq%2B/sHyvv8A237O/kbffzNuK%2BIfAGueFLD4LfGXSf2JNTs7c3v7NGmHRbXw7OI5rjxjHZ6y1ztVMu2qrEdPNzkGcMbbzfmxX6B0UAfOP/BOzUfAEeh%2BOPCHwo0vwLL4c0rxHamw8RfDK1lt9E1R5dOtWcRwvcTok8WFjmaOQiRsO4WRpFHunjtbVtIjF3NIi/aRgxxhjna3YkVtVg/EP/kCxf8AX0v/AKC1XT%2BNCex8a/8ABMKPTLFPj54YuLydP7N/aP8AEwt1S2U/uH%2BzshPzjBOW45%2BtfUXk6L/0ELr/AMA1/wDjlfKv7A3/ABLP2hv2l/DHTyviut9t/wCvm0R8/jtr6grkyFWyqEezmvuqVEffeKXvcc4mr/z8hh5/%2BB4TCP8AzLXk6L/0ELr/AMA1/wDjlHk6L/0ELr/wDX/45VWivXt5n58acsWkf2RADfXO37TLg/ZVyTtjzxv%2BlVvJ0X/oIXX/AIBr/wDHKJv%2BQLb/APX1N/6DFVWkkBa8nRf%2Bghdf%2BAa//HKPJ0X/AKCF1/4Br/8AHKq0U7eYFrydF/6CF1/4Br/8cqzfRaQbaz331yALY7SLVTkea/X5%2BOc1mVa1D/j0sf8Ar1P/AKNkpNaoA8nRf%2Bghdf8AgGv/AMco8nRf%2Bghdf%2BAa/wDxyqtFO3mBa8nRf%2Bghdf8AgGv/AMco8nRf%2Bghdf%2BAa/wDxyqtFFvMDT1WLSDcr5l9cg/ZoeBaqePKXH8fpVbydF/6CF1/4Br/8co1j/j7T/r1g/wDRSVVpJaAWvJ0X/oIXX/gGv/xyjydF/wCghdf%2BAa//AByqtFO3mBa8nRf%2Bghdf%2BAa//HKs6xFpB1e6Mt9chvtL7gtqpAO4994zWZVrXP8AkNXn/X1J/wChGlbUA8nRf%2Bghdf8AgGv/AMco8nRf%2Bghdf%2BAa/wDxyqtFO3mBa8nRf%2Bghdf8AgGv/AMcqzo8WkDV7UxX1yW%2B0ptDWqgE7h1O84rMq1of/ACGrP/r6j/8AQhSa0YB5Oi/9BC6/8A1/%2BOUeTov/AEELr/wDX/45VWinbzAteTov/QQuv/ANf/jlHk6L/wBBC6/8A1/%2BOVVoot5gaelRaQLlvLvrkn7NNw1qo48ps/x%2BlVvJ0X/oIXX/AIBr/wDHKNH/AOPt/wDr1n/9FPVWlbUC15Oi/wDQQuv/AADX/wCOUeTov/QQuv8AwDX/AOOVVop28wLXk6L/ANBC6/8AANf/AI5Vmxi0gW15svrkg2w3E2qjA81Onz884rMq1p//AB6X3/XqP/RsdJrQA8nRf%2Bghdf8AgGv/AMco8nRf%2Bghdf%2BAa/wDxyqtFO3mBa8nRf%2Bghdf8AgGv/AMcro/ACWSfa/sdxLJ/q93mwhMfe6YY5rkq6j4bf8vv/AGz/APZqzqr3GNbnUUUUVyFhRRRQAUUUUAFcH4z/AORluf8AgH/oC13lcH4z/wCRluf%2BAf8AoC1tQ%2BMmWxl15Z%2B11%2B1N4V/ZR%2BFjeMtT06XV9d1O5XTvCHheyy1zrWpScRW8agE4yQWYA7V6AsVU9/438ZeHfh14M1bx/wCL9QW00rRNNmvtSun6RQRIXdvwVTX5v/EDxZ8X/jGmjftU69Y7Pid8Ypn8Ofs4%2BDWl3L4S0aYf6RrT4/5bmBvMMw%2B4JEb7uFj8vPc0lgKHs6P8SSbWl%2BVXS5rdW5NRhH7U2lspMeX5bmnEmfYbIcraWIxDfvy%2BCjSjd1a9R9IUoKcvNx7J3j/Ye/Zg8VftYftZ6x8b/jzqEWv23hDX1vfGGpqRJa6v4mVf3Om25yVNnpyELhSVaTu8bJt/TiuI/Zy%2BA/gz9mf4K%2BH/AIJ%2BBLcCx0OxWJ7goA93OfmmuHx/HJIWc%2Bm7A4Art6vIcqWVYLllrUm%2Bab3vJ9L9bbX6vmfXT6TifMssr1aOW5QnHAYOLpUFL4pLmcqlep3rYmo5VqreqcoQvy0opWtc/wCQ1ef9fUn/AKEaq1a1z/kNXn/X1J/6Eaq17S2R8wFFFFMC1of/ACGrP/r6j/8AQhVWrWh/8hqz/wCvqP8A9CFVaXUAooopgFWtH/4%2B3/69Z/8A0U9VataP/wAfb/8AXrP/AOinpPYCrRRRTAKKKKALWn/8el9/16j/ANGx1Vq1p/8Ax6X3/XqP/RsdVaS3YBRRRTAKtQ/8gW4/6%2Bof/QZaq1ah/wCQLcf9fUP/AKDLSYFWiiimAUUUUAWpv%2BQLb/8AX1N/6DFVWrU3/IFt/wDr6m/9BiqrSQBRRRTAKtah/wAelj/16n/0bJVWrWof8elj/wBep/8ARslJ7oCrRRRTAK7zwZ/yLVt/wP8A9DauDrvPBn/ItW3/AAP/ANDasa/wDjualFFFcpYUUUUAFFFFABRRRQAUUUUAFFFFABRRRQAUUUUAFFFFABRRRQAUUUUAFcR8U/H/AIR0rxFovwy1DWEi1zW7a81DS7FkbM9vaGBLhw2NoKNeW/yk5IckAhWI7evj3/gp3f6l8Kfjf%2Bzn%2B02l46aVofj%2B78La8gPyLba3bpF50nosb2qNn121y4vFPBUfbWuk438k5JN/JSuefmeMlgMG69rpON/KLnGMn8lK/wAjkf2Sf%2BJX/wAFCv2pfDp4U3vhK%2BiH97ztLkLH8wBX1BXy/wDBX/iU/wDBVb42af0/tfwH4bvsf3vKV4c/rivqCqyTTCTj2qVV/wCVJP8AU/TPEr389w1b/n5g8DL/AMtKUH%2BNNhRRRXsH5%2BWpv%2BQLb/8AX1N/6DFVWrU3/IFt/wDr6m/9BiqrSQBRRRTAKtah/wAelj/16n/0bJVWrWof8elj/wBep/8ARslJ7oCrRRRTAKKKKALWsf8AH2n/AF6wf%2BikqrVrWP8Aj7T/AK9YP/RSVVpLYAooopgFWtc/5DV5/wBfUn/oRqrVrXP%2BQ1ef9fUn/oRpdQKtFFFMAq1of/Ias/8Ar6j/APQhVWrWh/8AIas/%2BvqP/wBCFJ7MCrRRRTAKKKKALWj/APH2/wD16z/%2BinqrVrR/%2BPt/%2BvWf/wBFPVWl1AKKKKYBVrT/APj0vv8Ar1H/AKNjqrVrT/8Aj0vv%2BvUf%2BjY6T2Aq0UUUwCuo%2BG3/AC%2B/9s//AGauXrqPht/y%2B/8AbP8A9mrOr/DY1udRRRRXGWFYnxK8b2Pwz%2BHOv/EjU7WSe28P6Jd6lcQxHDSJBC0rKPchCBW3VXXNF0rxJot54d12xjurG/tZLa8tpRlZonUq6H2Kkg/WgD508P8A7VX7Qvh3wH8QpPiB4N8P%2BI/FXhr4N2Hj7w/pnhHTrq2jvGuotRxpbI81xJLIk2nhfPTaZVuF2wqy4bM8I/tifEvx54K8Y3fhf45fB%2Ba28BajBP4i%2BJy6NevojaVLppuVeCzS%2BLSTLcBoHxebVCFsGTMC%2Bk/Db9jrw58NbbVI7P4x%2BO9RuNW8L2/hybUr/U7VLuHSrWKeOztop7a2ikjNubq5kSYHz2kmLSSSELtxtc/YM0DxDZ2s2qftB/EGXWY/GMHibUPEUy6LLcape29otraC4hl01rQxW6KjxIkCBZkWc5lHmUAeo/BTxf4t%2BIPwa8JePfH/AINk8Oa7rfhmwv8AWvD0xJfTLua3SSa1bIBzG7MhyAfl5ql4t0rVLnxBcTW%2Bm3EiNs2ukLEH5F7gV1Hh/TL3RtDs9J1HxDeatcW1skU2qagkKz3bKADLIII44gzHkhERcnhQOK47xqyr4jumZgAAhJJ6fItbUfiFLY%2BRv%2BCmGo6x8S9R8DfsIaHcXFlP8R9TN/40ulyjaf4YsCJ7yVm/gDlAiseDsdT1qn%2BwR4B1H9pT4t63%2B3zqPhK4t/DUdq3hX4J6WbNlSy0K2YxyXaJjCtO6sB3VQ65Kla%2BcviB498U/H%2Bz8c/H7wjK3/CQ/tBeK4/hZ8HSwJNp4Ygm2398B1EUpWQvz8jEnpX6R/DL4e%2BG/hL8OtD%2BGHg%2B18nS/D%2BkwafYRnqIoowik%2BrEDJPcknvXyuXJ5xnM8VLWEbSXy5lS/Dnq%2Bs4Poj6jhmX9hcB4nPtsTm85UKL6wwFBpVZR7fWa7UL9acJpaSZ039h61/wBAe6/8B2/wo/sPWv8AoD3X/gO3%2BFVaK%2Bz1PlDT1jR9Xl1e6li0q5ZWuXKssDEEbjz0qt/Yetf9Ae6/8B2/wo1z/kNXn/X1J/6Eaq0leyAtf2HrX/QHuv8AwHb/AAo/sPWv%2BgPdf%2BA7f4VVop6gaej6Pq8Wr2ssulXKqtyhZmgYADcOTxVb%2Bw9a/wCgPdf%2BA7f4UaH/AMhqz/6%2Bo/8A0IVVpa3Atf2HrX/QHuv/AAHb/Cj%2Bw9a/6A91/wCA7f4VVop6gWv7D1r/AKA91/4Dt/hVnStH1eO5ZpNKuVBtphloGHJiYAdPWsyrWj/8fb/9es//AKKek72AP7D1r/oD3X/gO3%2BFH9h61/0B7r/wHb/CqtFPUC1/Yetf9Ae6/wDAdv8ACj%2Bw9a/6A91/4Dt/hVWijUDTsdH1dLa8V9KuQWtgFBgbk%2BahwOPQH8qrf2HrX/QHuv8AwHb/AAo0/wD49L7/AK9R/wCjY6q0le7Atf2HrX/QHuv/AAHb/Cj%2Bw9a/6A91/wCA7f4VVop6gWv7D1r/AKA91/4Dt/hVmLR9XGkTxHSrncbmIhfIbJAWTJ6e4/OsyrUP/IFuP%2BvqH/0GWk7gH9h61/0B7r/wHb/Cj%2Bw9a/6A91/4Dt/hVWinqBa/sPWv%2BgPdf%2BA7f4Uf2HrX/QHuv/Adv8Kq0Uagacuj6udIgiGlXO4XMpK%2BQ2QCseD09j%2BVVv7D1r/oD3X/AIDt/hRN/wAgW3/6%2Bpv/AEGKqtJXAtf2HrX/AEB7r/wHb/Cj%2Bw9a/wCgPdf%2BA7f4VVop6gWv7D1r/oD3X/gO3%2BFWb7R9Xe2s1TSrklbYhgIG4PmucHj0I/OsyrWof8elj/16n/0bJSd7oA/sPWv%2BgPdf%2BA7f4Uf2HrX/AEB7r/wHb/CqtFPUC1/Yetf9Ae6/8B2/wrtfCUE9t4ft4biF43XfuR1II%2BduxrgK7zwZ/wAi1bf8D/8AQ2rGtflKjualFFFcxQUUUUAFFFFABRRRQAUUUUAFFFFABRRRQAUUUUAFFFFABRRRQBzXxmHjM/B/xWPhyZP%2BEh/4Rq%2B/sHyvv/bfs7%2BRt9/M24r5K/ZN8b%2BDPBk3jGf9i7w5o2uRv8FvDMuleF9P1K3tI9W8XxrqrXcUrSSIovxCbD7a0hEyqYPNO7FfbVFAHy//AMEybDxJoFv8Y/C/irwd4p06/tvit9o1K98V3OnyXN/fT6HpMlzKwsru4jRmlLTbFby0W4jRD8rIm5/wVN%2BD3/C8v2FvHvgW1WU6hHpTalovkJlze2YN1CqnIKlmiCZH973r6ErA%2BIqq%2Bhxo6gg3IBBHUbWrKvh4YyhOhPaacX801%2Bv4HNjcNTxuDqYep8M4uL%2Baa/W/yPzq%2BE3xs022/ay%2BDP7XviS7Y%2BG/j18KLXwre6gkAC6d4kgk84Qt8%2BCJHDwp0JZW4AU193eTov8A0ELr/wAA1/8Ajlfn38FP2d4fix%2BzZ8c/%2BCdsl19i1n4YfEK5u/h/dbyj6dHcMb/SplbqmXMwYj%2BCRsda%2BnP2Gv2i7j9pr9nXSPHPiC3Nr4m06STR/Gmmum17PV7YiO4Rl/g3HEgXssijtXk8P4ipCXsar1qJzX%2BOL5K0flOKmv7s32PualeXF3hvluff8xGDjDBYlduT2n1erbopJVqMnt7SnDrM9o8nRf8AoIXX/gGv/wAco8nRf%2Bghdf8AgGv/AMcqrRX1VvM%2BLNOWLSP7IgBvrnb9plwfsq5J2x543/Sq3k6L/wBBC6/8A1/%2BOUTf8gW3/wCvqb/0GKqtJIC15Oi/9BC6/wDANf8A45R5Oi/9BC6/8A1/%2BOVVop28wLXk6L/0ELr/AMA1/wDjlWb6LSDbWe%2B%2BuQBbHaRaqcjzX6/PxzmsyrWof8elj/16n/0bJSa1QB5Oi/8AQQuv/ANf/jlHk6L/ANBC6/8AANf/AI5VWinbzAteTov/AEELr/wDX/45R5Oi/wDQQuv/AADX/wCOVVoot5gaeqxaQblfMvrkH7NDwLVTx5S4/j9KreTov/QQuv8AwDX/AOOUax/x9p/16wf%2BikqrSS0AteTov/QQuv8AwDX/AOOUeTov/QQuv/ANf/jlVaKdvMC15Oi/9BC6/wDANf8A45VnWItIOr3RlvrkN9pfcFtVIB3HvvGazKta5/yGrz/r6k/9CNK2oB5Oi/8AQQuv/ANf/jlHk6L/ANBC6/8AANf/AI5VWinbzAteTov/AEELr/wDX/45VnR4tIGr2pivrkt9pTaGtVAJ3Dqd5xWZVrQ/%2BQ1Z/wDX1H/6EKTWjAPJ0X/oIXX/AIBr/wDHKPJ0X/oIXX/gGv8A8cqrRTt5gWvJ0X/oIXX/AIBr/wDHKPJ0X/oIXX/gGv8A8cqrRRbzA09Ki0gXLeXfXJP2abhrVRx5TZ/j9KreTov/AEELr/wDX/45Ro//AB9v/wBes/8A6KeqtK2oFrydF/6CF1/4Br/8co8nRf8AoIXX/gGv/wAcqrRTt5gWvJ0X/oIXX/gGv/xyrNjFpAtrzZfXJBthuJtVGB5qdPn55xWZVrT/APj0vv8Ar1H/AKNjpNaAHk6L/wBBC6/8A1/%2BOUeTov8A0ELr/wAA1/8AjlVaKdvMC15Oi/8AQQuv/ANf/jldH4ASyT7X9juJZP8AV7vNhCY%2B90wxzXJV1Hw2/wCX3/tn/wCzVnVXuMa3OoooorkLCiiigAooooAK%2Bev2%2BPiL/wAKl/Z4%2BJvxFjn8ubS/B17JZvnH%2BkG1Kwj8ZGQfjX0LXwl/wXR8X2%2Bi/sqXngWe7MI8beMNF0NnVsMIzKtzIR7bLZgfY1x5liXhMsxFZbxhK3ray/Fo87N51qeWVnRV5uLUUt3KVoQS83KcUvNo8U/4Jd/Dk/Ez4s%2BH/E9zb7vDvwG%2BHlp4b0VCP3Z8SahELrVpV9HiMrW7euUNfoRXzh/wSY8Er4P/AGDPBOoXMP8AxMfEkd1rur3TD57qe6uJJBK57nyvKXPogr6PqeGsKsNk1Jv4ppSfzSsv%2B3YqMfkz9E8QfYYLiF5JhX/s%2BWwhgqXZxwy9nOfrVre3qvr76vqgooor3j4gta5/yGrz/r6k/wDQjVWrWuf8hq8/6%2BpP/QjVWktkAUUUUwLWh/8AIas/%2BvqP/wBCFVataH/yGrP/AK%2Bo/wD0IVVpdQCiiimAVa0f/j7f/r1n/wDRT1Vq1o//AB9v/wBes/8A6Kek9gKtFFFMAooooAtaf/x6X3/XqP8A0bHVWrWn/wDHpff9eo/9Gx1VpLdgFFFFMAq1D/yBbj/r6h/9BlqrVqH/AJAtx/19Q/8AoMtJgVaKKKYBRRRQBam/5Atv/wBfU3/oMVVatTf8gW3/AOvqb/0GKqtJAFFFFMAq1qH/AB6WP/Xqf/RslVatah/x6WP/AF6n/wBGyUnugKtFFFMArvPBn/ItW3/A/wD0Nq4Ou88Gf8i1bf8AA/8A0Nqxr/AOO5qUUUVylhRRRQAUUUUAFFFFABRRRQAUUUUAFFFFABRRRQAUUUUAFFFFABRRRQAVg/EP/kCxf9fS/wDoLVvVg/EP/kCxf9fS/wDoLVdP40J7HxD%2B1F4N%2BL/7Lf7QV3%2B318EfDT%2BKNE1HRLfTvix4LtY/9Mms7cny9StD/HLChwUPVFPYlk40%2BN9Y%2BCXjLVP%2BCh/7IdknxD%2BDvxJSC%2B%2BI/hfRVI1DS7mJSkmpW0ZPLjJ8%2BFgG3Bi2B88f29Xy14%2B/Yu%2BM3wM%2BIGr/ABz/AOCfPjvTtCudauftnib4X%2BIIN2g6zOB80sRTDWUzDumFY4yUUEHxMyy3EUJ%2B2w/M48znaNnKE3vOCdlKMtqlNv3t4tPQvhzPsfwPmVevRw6xWCxKccThpX96LkpOUGmpRkpRU4uL54VEqlO96lOp798H/jJ8NPj58PrD4o/CTxba61ompR7re7tW%2B638UbqfmjkU8MjAMp4Irp6/M63%2BIekeAvjDfeIfhT4ln/Zi%2BMOoTCbxF8MPiFHnwd4rmHBkhuFAiQuTgTIVJJIUZLOfpf4Uf8FKPBUfiC1%2BE/7X3hCf4R%2BNZlAt11yYPo2rDjE1lqA/cujZBG5hgkKGc1pgOI8NVXs8U1CW3N9hvtrZwk/5Kii76Jy3PtP9Vsu4nw1TMeC6/wBdox1nQ2xmH6tVaFlKpGOq9tRjOLS5p06TbR9STf8AIFt/%2Bvqb/wBBiqrU63EF34dtLq1nSWKSeV45I2DK6lIiCCOoI71BX0a2PhmmnZhRRRTEFWtQ/wCPSx/69T/6NkqrVrUP%2BPSx/wCvU/8Ao2Sk90BVooopgFFFFAFrWP8Aj7T/AK9YP/RSVVq1rH/H2n/XrB/6KSqtJbAFFFFMAq1rn/IavP8Ar6k/9CNVata5/wAhq8/6%2BpP/AEI0uoFWiiimAVa0P/kNWf8A19R/%2BhCqtWtD/wCQ1Z/9fUf/AKEKT2YFWiiimAUUUUAWtH/4%2B3/69Z//AEU9VataP/x9v/16z/8Aop6q0uoBRRRTAKtaf/x6X3/XqP8A0bHVWrWn/wDHpff9eo/9Gx0nsBVooopgFdR8Nv8Al9/7Z/8As1cvXUfDb/l9/wC2f/s1Z1f4bGtzqKKKK4ywrnvi741ufhr8J/E/xFstOF5NoHh291KK0Of37QQPKE455K449a6GmXNtb3lvJaXcCSxSoUlikUMrqRggg8EEcYoA%2BW/BXxU/ap0rwt8RPA%2BieO2%2BIPjK1%2BBOkeMvB02oaVZQY1q/j1aMWapbRwRtbGawgaJZCZPnlV5mADLyvw8/aI%2BOXxS%2BN0f7Kug/Grx1pdv/AGpNeJ498R%2BBrDTtdltU0iCb7E1pc2CQIRdTF97WiO0Me1c5E7fQngz9jv8AZ58AaJqXhvw34KvBYavpX9lanZ3/AIk1C8juNPEDwJYsLid/9FjjkkWKD/VQ%2BbIY1QuxNd/2Kv2dX8KL4RfwvrJRdabVjq//AAmurf2s141r9jaVtS%2B1fbGza4typmK%2BUqx42KFABrfspfFDXvjb%2BzF8PfjD4pgt49U8UeC9M1TUltEKwmee1jkkMYJJEZZiV5PykV%2Be/wDwcC%2BLTN4x8H%2BABIjW1h4Z8ReINSUTDMTfYUsbN8ZyD9ouGAzg%2Blfp14b8OaD4P8O2HhHwrpFvp%2Bl6VZRWem2FpEEitreJAkcSKOFVVUKAOgAr8jP%2BCqzf8Ln/AG7/AB54RU%2BbDbQ%2BBfh1FH1Uz6nfrqrAf7W22IPfAxXzXFtSUcmlSjvNqP5y/Rfee1wng6WZ8eZHgavwVMbhnP8A690an1mp90MM2foJ%2BzX8Nrr4d/s7eA/AX%2BixnRfBumWTqb2IENFaxo2fm65Bz71239j3f/Pa1/8AA6L/AOKqqAFAVQAAOAKK%2Bwo0lRpRpx2ikvuSX6HmY/GVcxx9bF1fiqznN%2Bs5Sm/xky1/Y93/AM9rX/wOi/8AiqP7Hu/%2Be1r/AOB0X/xVVaK01OQ09Y0q6k1e6kWW2Aa5cjdeRA/ePUFsiq39j3f/AD2tf/A6L/4qjXP%2BQ1ef9fUn/oRqrSV7IC1/Y93/AM9rX/wOi/8AiqP7Hu/%2Be1r/AOB0X/xVVaKeoGno%2BlXUer2sjS2xC3KE7byIn7w7Bsmq39j3f/Pa1/8AA6L/AOKo0P8A5DVn/wBfUf8A6EKq0tbgWv7Hu/8Anta/%2BB0X/wAVR/Y93/z2tf8AwOi/%2BKqrRT1Atf2Pd/8APa1/8Dov/iqs6VpV1HcszS23/HtMOLyI9YmHZqzKtaP/AMfb/wDXrP8A%2BinpO9gD%2Bx7v/nta/wDgdF/8VR/Y93/z2tf/AAOi/wDiqq0U9QLX9j3f/Pa1/wDA6L/4qj%2Bx7v8A57Wv/gdF/wDFVVoo1A07HSrpba8Uy23zWwAxeRH/AJaoefm46d6rf2Pd/wDPa1/8Dov/AIqjT/8Aj0vv%2BvUf%2BjY6q0le7Atf2Pd/89rX/wADov8A4qj%2Bx7v/AJ7Wv/gdF/8AFVVop6gWv7Hu/wDnta/%2BB0X/AMVVmLSroaRPH5ttk3MRH%2BmRY4WTvux3/wA4rMq1D/yBbj/r6h/9BlpO4B/Y93/z2tf/AAOi/wDiqP7Hu/8Anta/%2BB0X/wAVVWinqBa/se7/AOe1r/4HRf8AxVH9j3f/AD2tf/A6L/4qqtFGoGnLpV0dIgj822yLmUn/AEyLHKx992O3%2Bc1W/se7/wCe1r/4HRf/ABVE3/IFt/8Ar6m/9BiqrSVwLX9j3f8Az2tf/A6L/wCKo/se7/57Wv8A4HRf/FVVop6gWv7Hu/8Anta/%2BB0X/wAVVm%2B0q6a2s1Ett8tsQc3kQ/5auePm569qzKtah/x6WP8A16n/ANGyUne6AP7Hu/8Anta/%2BB0X/wAVR/Y93/z2tf8AwOi/%2BKqrRT1Atf2Pd/8APa1/8Dov/iq7XwlC9v4ft4ZChI35KOGH327gkGuArvPBn/ItW3/A/wD0NqxrX5So7mpRRRXMUFFFFABRRRQAUUUUAFFFFABRRRQAUUUUAFFFFABRRRQAUUUUAc18Zh4zPwf8Vj4cmT/hIf8AhGr7%2BwfK%2B/8Abfs7%2BRt9/M24r5D/AGYfF/7J/hbTfiAfDXizS9G%2BFr/AbQZvF02kam9nt1SGDV31iUvbssy6lHZG0a6dSLlP9HLkOAa%2B4aKAPnD/AIJxL8KtT8IeL/HnwfvfB%2Bm6L4m8Qw39j4B8FarZ3Nv4YgFlBBHHcLZu0Ud5MITPMqfKrPsBkMbTSe6%2BO1tW0iMXc0iL9pGDHGGOdrdiRW1WD8Q/%2BQLF/wBfS/8AoLVdP40J7HL%2BTov/AEELr/wDX/45R5Oi/wDQQuv/AADX/wCOVVorst5kGR8TPhD8GPjN4Yl8GfFfwjZ%2BItLm5ay1fRYp0DYxuXc52MOzLgjsRXyv8T/%2BCSmg6f4ZvPDn7L/x%2B1nQdDuGMjfDnxxpMev%2BHHbniOK5kaS1Y5/1qFpF6qQQK%2Bv6K87G5Rl%2BYa14XdrXWkrduZWdvJ3XkctTB0JYqGKheFaDTjUhKVOpFrZxqQlCat0963kflknw%2B/4Knf8ABP8At2vPhj4A1s%2BHLeeR10fwtdv4n8Nzthdyx2U7C/09MbWeQM7HtwMV6t8A/wDgvR8C9Xuh4S/aq8Dav4K1WGUw3Gp6NZvfWO5fvM8TFLqD/cMch4PNfoDN/wAgW3/6%2Bpv/AEGKuB%2BK37OfwE%2BOdqbX4wfB3w54j%2BTas2raRFLNGP8AYlK70PupBrwYcPZrlrvlmMaj/JUXPH5NWa%2BVvQ%2Btr8YZ9mEOXOYUswf/AD8rRdLFfPFYZQlVfniMPWb6zerND4S/HX9nv48aMNf%2BDfxh03xJbbA0h0qWKV4c9pIxLvjPs4B9q67ydF/6CF1/4Br/APHK%2BLPHH/BD39kLUdZHiv4O654y%2BHOrwuZLO68MeIXZYX9QJw8gHssi/lS6X%2BzV/wAFZfgJ5UXwf/bS8L/EnS7VGK6T8UNDlimk44U3EXmzSN2y0yDPpXfTzDOsOrYzCN/3qUlNf%2BAy5Jr8T5nFY7DKV6WGqx8r06q%2BUoOlJ%2BXNTT72PtLydF/6CF1/4Br/APHKs30WkG2s999cgC2O0i1U5Hmv1%2BfjnNfEF5%2B3z%2B358F7aNP2jv%2BCautX8S5Nzrnw51tdQh2j%2BMW8azNGP%2Bukoqx4e/wCC7n7DuuS2%2Bj%2BNovGng%2B8tYzDeQeIPDLMYn3sxBFq8zfxDqoPtVf6yZNGajWq%2BzfapGUH/AOTRS%2B5sweMhCi6tSE4QW8pU6iivWfJKCXm5xXa59neTov8A0ELr/wAA1/8AjlHk6L/0ELr/AMA1/wDjleC%2BDf8AgpV%2BwZ48CHQv2qPCMRk%2B6ur6h/Z5/K6EZH416n4U%2BKPwz8dqr%2BB/iJoWshhlTpWrw3AI9vLY16lDG4LE/wAGtGXpKL/J/oLD5hl%2BL/gVoT/wyi/yk/yOn8nRf%2Bghdf8AgGv/AMco8nRf%2Bghdf%2BAa/wDxyqtFdVvM6zT1WLSDcr5l9cg/ZoeBaqePKXH8fpVbydF/6CF1/wCAa/8AxyjWP%2BPtP%2BvWD/0UlVaSWgFrydF/6CF1/wCAa/8AxyjydF/6CF1/4Br/APHKq0U7eYFrydF/6CF1/wCAa/8AxyrOsRaQdXujLfXIb7S%2B4LaqQDuPfeM1mVa1z/kNXn/X1J/6EaVtQDydF/6CF1/4Br/8co8nRf8AoIXX/gGv/wAcqrRTt5gWvJ0X/oIXX/gGv/xyrOjxaQNXtTFfXJb7Sm0NaqATuHU7zisyrWh/8hqz/wCvqP8A9CFJrRgHk6L/ANBC6/8AANf/AI5R5Oi/9BC6/wDANf8A45VWinbzAteTov8A0ELr/wAA1/8AjlHk6L/0ELr/AMA1/wDjlVaKLeYGnpUWkC5by765J%2BzTcNaqOPKbP8fpVbydF/6CF1/4Br/8co0f/j7f/r1n/wDRT1VpW1AteTov/QQuv/ANf/jlHk6L/wBBC6/8A1/%2BOVVop28wLXk6L/0ELr/wDX/45Vmxi0gW15svrkg2w3E2qjA81Onz884rMq1p/wDx6X3/AF6j/wBGx0mtADydF/6CF1/4Br/8co8nRf8AoIXX/gGv/wAcqrRTt5gWvJ0X/oIXX/gGv/xyuj8AJZJ9r%2Bx3Esn%2Br3ebCEx97phjmuSrqPht/wAvv/bP/wBmrOqvcY1udRRRRXIWFFFFABRRRQAV%2BQg0TU/Hn7fOmrr0e678U/te%2BJ9QhHXdZeGLXybdj/ul5R7Yr9e6%2BE/iP4X8N3P/AAWP8MeEPC2hWllaeEPhTrHie4is4FjT7dql/wCVPKwUYMsrM8jHqxck9a8LO8L9Zlh7v/l5FW78zj%2BShL7z7Lw/wd%2BKZZo3pgsJj6v/AG88JKhB/KWI/HQ%2BnKKKK%2BtPiQooooAta5/yGrz/AK%2BpP/QjVWrWuf8AIavP%2BvqT/wBCNVaS2QBRRRTAtaH/AMhqz/6%2Bo/8A0IVVq1of/Ias/wDr6j/9CFVaXUAooopgFWtH/wCPt/8Ar1n/APRT1Vq1o/8Ax9v/ANes/wD6Kek9gKtFFFMAooooAtaf/wAel9/16j/0bHVWrWn/APHpff8AXqP/AEbHVWkt2AUUUUwCrUP/ACBbj/r6h/8AQZaq1ah/5Atx/wBfUP8A6DLSYFWiiimAUUUUAWpv%2BQLb/wDX1N/6DFVWrU3/ACBbf/r6m/8AQYqq0kAUUUUwCrWof8elj/16n/0bJVWrWof8elj/ANep/wDRslJ7oCrRRRTAK7zwZ/yLVt/wP/0Nq4Ou88Gf8i1bf8D/APQ2rGv8A47mpRRRXKWFFFFABRRRQAUUUUAFFFFABRRRQAUUUUAFFFFABRRRQAUUUUAFFFFABWD8Q/8AkCxf9fS/%2BgtW9WD8Q/8AkCxf9fS/%2BgtV0/jQnscbRRRXaQFFFFAFqb/kC2//AF9Tf%2BgxVVq1N/yBbf8A6%2Bpv/QYqq0kAUUUUwCsP4qfBb4PfF3SLKw%2BKnws8O%2BI4fsbKE1zRoLraPNk6GRSV%2Bo6VuVa1D/j0sf8Ar1P/AKNkrOpTp1Y8s4pp9Gk19zTR0YXF4vA11Ww1SVOa2lGUoyXpKMotfJo%2BSfiV/wAEXP2A/iGs0mn/AAz1DwvPP/rJ/DGuTRDPtFKZIR9AgFeH%2BOf%2BDfTwycSfC/8AaB2QwtmLT/E3hSGUyY6Brm0eCQfUCv0corwsTwnw7i3eeGin3j7v/pLS/A%2BgfGOdV1bHKli12xOHw2Jv/wBvVqEqn/lW/Zp6n5eyf8Ewf2%2BfhQ%2BfBd9b39rF/qB8OfjBq2iXZA9ft4liVvpkUn2X/goD8LRjxT/w1lo4i%2B8%2BnahpfjdV98qId4r9Q6K4f9TsHS/3atUh87r84v8AEn%2B0eCcSrY3hzC374eeLwcvkqGKnTX/gr5dD8xX/AG5PjZ4TvY7Txf8A8FOte0CYxxrHY/E/9mr7EykIAEaS1EmcYxuJ5613XhD9tX9qvXQq%2BCf2/f2T9edv9XF4nkvdLlk9tgZWz7AV%2Bg/iG1tr2T7LeW6SxPaQB45UDKw8pOCD1rzbxf8Ask/ss%2BPtzeNP2cPA2pu/Wa78K2jyD3DmPcD7g0lkOb0l%2B6xTfrKrH8pVF%2BA/7P8ACTE70Mywr/6dY2nXS9I4ihGX3zbPDfDvxq/4Km6tB9q0T4d/s/8Ai6IDJk8LeM7xVYeoMm7Faf8Aw0X/AMFQNJ/5CP8AwTk0HVsdTpXxdsoM/TzozWn4i/4JKf8ABPnxHP8AbD%2Bzza6dcKcx3Gi6zfWbRn1AhnVf0rM/4dV/DDRhn4bftL/G/wAIbf8AVp4f%2BJMyovttlR8j2zT%2Bp8R0vtyfpWg//TlD9Rf6o%2BHdf/d%2BI8dR8q2Ep1EvnRqO/wD4CvQP%2BGz/ANt/T/8AkYv%2BCW/iiLH3v7N%2BIOm3n5bVGan1X/goT8c7bU7mXxB/wTQ%2BMsDG4culjaW10VO45HyuM1D/AMML/tVeHh/xbz/gpz8RLbb9z/hJNDstXx9fNC7qn1T4G/8ABVfwxqlymmft0%2BCPFDpO4L%2BIfhlFZeaQx5ItHOM%2B1Lmz2m/e9t8o4ef5OD/AP%2BIeYCr/ALpxdQflVoVqT%2BfNhpRX/gRX/wCHmWpWnGs/8E9P2koPVrf4aiZR%2BKzij/h6f4Cg/wCQp%2ByR%2B0BY%2Bv2v4XyjH5Sml%2B0/8FjfD3%2Bu039nzxFCvTyJtYtJ2%2Bu75BR/wvf/AIKm6D/yFv2DfB%2Bv7ev9h/FCC13fT7Shx%2BNP67mUfiq1V64VP/0icg/4hbxPP/ds%2BwFX0r4aP/pz2H4if8PY/gJF/wAhD4PfF609ftPw3uhj8iasaV/wV5/ZRs9UtrjUNA%2BItusc6M/m/D2%2ByAGGeiGoP%2BG1f2z9I/5HD/gl74vgx9/%2BxfG%2Bnajj6bAuan0r/gpR4v0PVLabxb/wTo/aFh8u4QsNI8ER33Rh0KTDNJ5piEvexdv8WGmg/wCISeKEv4NbD1f8FTBT/wDScfEr/wDD3/8AYxT/AI%2BdT8Yw/wDXXwHqI/lFR/w%2BG/YZX/XeNPEkf%2B/4G1P/AOMUv/D1v4NWX/I0/AL406Hj739rfDW4Tb9djNR/w%2BG/YTs/%2BRl8feINFx97%2B1PA%2Bppt%2BuyBqf8AbDW%2BYUV602vznEP%2BIP8AjU/4eCnP/Bh1U/8ATWJqfgJ/w%2BL/AGCx9/4ka4v%2B94I1T/5Ho/4fG/sBj73xT1gfXwTqv/yPWnpn/BW//gnZq2Psv7TOnJn/AJ%2BdHv4f/Rlutb%2Bnf8FJ/wBg3VMfZv2qvB65/wCfjUxD/wCjAK1hmdSp8OY0H/26v/lxxV/DDxjwv8XAVo%2BuBxH6NnK6b/wWW/4J9W9w0k3xb1ZQbeVQf%2BEJ1XqY2A/5dvUiq/8Aw%2BS/4J6j7/xm1Bf97wXq3/yNXq/hv9uf9iy/uWNt%2B1t8NfmtpgFk8b2KEkxMAMNKD1rRsf2nf2a9Ux/Zn7Q3ga5z08jxbZvn8pK6IV8fN%2B7jaL/7dX/y88itwf4kYb%2BLRnH1weIX52PFx/wWY/4JwqcT/tBTRf8AXTwdq4/9tKswf8FiP%2BCb9x/q/wBpS3Gf7/hnVV/9CtRXu9l8W/hRqYxp/wATfD1xnp5OtQPn8nq9DN4O1v8A1EumXef7jRyZ/LNdEY5zL4cRSf8A3Df6VWeXVyzi7D/xZwj/AIqFWP5zR4Rbf8FZ/wDgnfdf6r9pzSRn/nppt6n/AKFAK19K/wCCpP8AwT7mtrtR%2B1P4aUyW4VBK8yZPmIcfNGOwP5V67c%2BAfAt5/wAffgvSZc/89NOib%2Ba1DB8Fvg5e2t6158JvDMpFsCDLoNu3/LWP1SqdPPkv4lJ/9uTX/t7Of2XEa/5e0X/25UX/ALkZ5XF/wUp/YLmGU/ar8Hj/AH9SC/zFSj/go9%2BwgRn/AIat8Ff%2BDlK7qX9nj4ATnM/wM8HP/v8Ahm0P/tOoz%2BzX%2BzmTuPwB8E59f%2BEVs/8A43T5c/8A56X/AIDU/wDkg5OJP56P/gNX/wCSOFk/4KTfsGxDLftV%2BDjj%2B7qgb%2BQr1z9kv9p34A/tGt4gX4HfFPSvEx0X7J/an9mSM32bzvO8rdkD73lSY/3TWBH%2Bzp%2Bz5Cd0PwJ8GqfVfDFoP/adei/A/wACeCPBK6mvgzwbpWkC48n7QNL06K383b5m3d5ajdjc2M9Mn1qoxzdSvXlTcevKp3%2BTcmvwN8LHO1XTxEqTh15YzT%2BTlJrfyO9ooorU9cK574u%2BNbn4a/CfxP8AEWy04Xk2geHb3UorQ5/ftBA8oTjnkrjj1roaZc21veW8lpdwJLFKhSWKRQyupGCCDwQRxigD5LtPj78efhn8MvilbeJvjZB4g1bRPgDpXjrQ/Eeu6Jbxxafqd5FqyNCYrCBPMtBLYQvEhSWYhpVLy/LXA337Tv7YX9oXfwo0/VPiW/iC18SXzJ4YTSvCjeNEsItBs7pJJm2f2K1qLu4IJhYzlZoEBMgljH1H4X/Yw/Zv8IeGtV8HaR4DupNL1vSDpOrWGpeI9QvYrnTvIeBLFluJ3/0aOOSRYoP9XD5rmNULsTXm/Ye/ZvuNMNjN4Y11rltQkvZdd/4TvWf7XllktktXD6j9r%2B1yRtBFHGYmlMe2NBt%2BUYAOu%2BAnjW8%2BJXwL8F/EXUdb07U7jX/CenalPqWkRSJaXbz2scrSwLIA6xMWLKHAYKRkA5r5T%2BENpL8QP%2BCrn7RPjWJ4mi8LaB4X8O2kss6ID5lo11Mq7iPuyAA%2B9fZfhzw7oXhDw9YeE/C%2Bk29hpml2UVpp1haRhIraCNAkcaKOFVVUKAOgAr4v/YM0%2B%2B1H4mftG/EfVo8XGq/tBa7p8Tf3rawMdtEfzDj8K87FJ1MxwlP%2B9KX/AIDTdvxkffcKSjheFc/xV9fYUaK/7j4qnf8A8loNPyZ9L/2Pd/8APa1/8Dov/iqP7Hu/%2Be1r/wCB0X/xVVaK%2Bg1Pz0tf2Pd/89rX/wADov8A4qj%2Bx7v/AJ7Wv/gdF/8AFVVoo1A09Y0q6k1e6kWW2Aa5cjdeRA/ePUFsiq39j3f/AD2tf/A6L/4qjXP%2BQ1ef9fUn/oRqrSV7IC1/Y93/AM9rX/wOi/8AiqP7Hu/%2Be1r/AOB0X/xVVaKeoGno%2BlXUer2sjS2xC3KE7byIn7w7Bsmq39j3f/Pa1/8AA6L/AOKo0P8A5DVn/wBfUf8A6EKq0tbgWv7Hu/8Anta/%2BB0X/wAVR/Y93/z2tf8AwOi/%2BKqrRT1Atf2Pd/8APa1/8Dov/iqs6VpV1HcszS23/HtMOLyI9YmHZqzKtaP/AMfb/wDXrP8A%2BinpO9gD%2Bx7v/nta/wDgdF/8VR/Y93/z2tf/AAOi/wDiqq0U9QLX9j3f/Pa1/wDA6L/4qj%2Bx7v8A57Wv/gdF/wDFVVoo1A07HSrpba8Uy23zWwAxeRH/AJaoefm46d6rf2Pd/wDPa1/8Dov/AIqjT/8Aj0vv%2BvUf%2BjY6q0le7Atf2Pd/89rX/wADov8A4qj%2Bx7v/AJ7Wv/gdF/8AFVVop6gWv7Hu/wDnta/%2BB0X/AMVVmLSroaRPH5ttk3MRH%2BmRY4WTvux3/wA4rMq1D/yBbj/r6h/9BlpO4B/Y93/z2tf/AAOi/wDiqP7Hu/8Anta/%2BB0X/wAVVWinqBa/se7/AOe1r/4HRf8AxVH9j3f/AD2tf/A6L/4qqtFGoGnLpV0dIgj822yLmUn/AEyLHKx992O3%2Bc1W/se7/wCe1r/4HRf/ABVE3/IFt/8Ar6m/9BiqrSVwLX9j3f8Az2tf/A6L/wCKo/se7/57Wv8A4HRf/FVVop6gWv7Hu/8Anta/%2BB0X/wAVVm%2B0q6a2s1Ett8tsQc3kQ/5auePm569qzKtah/x6WP8A16n/ANGyUne6AP7Hu/8Anta/%2BB0X/wAVR/Y93/z2tf8AwOi/%2BKqrRT1Atf2Pd/8APa1/8Dov/iq7XwlC9v4ft4ZChI35KOGH327gkGuArvPBn/ItW3/A/wD0NqxrX5So7mpRRRXMUFFFFABRRRQAUUUUAFFFFABRRRQAUUUUAFFFFABRRRQAUUUUAc18Zh4zPwf8Vj4cmT/hIf8AhGr7%2BwfK%2B/8Abfs7%2BRt9/M24r4b8G6z4Bs/gj8YtF/ZA1G2g0%2B%2B/Zw0fyrTwxNsubjxMltrDaj5aRnzH1dbU2ZuODcBja%2BZ82K/QmigD55/Yc/4VX/wm3xRP7NiaKPhh/bOl/wDCOf8ACLiMaUb7%2BzYvtv2Tyv3W3/j28zy%2BPOEu7955le2eO1tW0iMXc0iL9pGDHGGOdrdiRW1VDxFon9vWS2f2rytsofds3ZwCMdR61UGlJNiexxHk6L/0ELr/AMA1/wDjlHk6L/0ELr/wDX/45W9/wrb/AKjX/kt/9lR/wrb/AKjX/kt/9lXT7SHcmzMHydF/6CF1/wCAa/8AxyjydF/6CF1/4Br/APHK3v8AhW3/AFGv/Jb/AOyo/wCFbf8AUa/8lv8A7Kj2kO4WZlSxaR/ZEAN9c7ftMuD9lXJO2PPG/wClVvJ0X/oIXX/gGv8A8cro38Ab7KOz/tb/AFcrvu8jruCjH3v9n9ai/wCFbf8AUa/8lv8A7KkqkO4WZg%2BTov8A0ELr/wAA1/8AjlHk6L/0ELr/AMA1/wDjlb3/AArb/qNf%2BS3/ANlR/wAK2/6jX/kt/wDZU/aQ7hZmD5Oi/wDQQuv/AADX/wCOVZvotINtZ7765AFsdpFqpyPNfr8/HOa1f%2BFbf9Rr/wAlv/sqluPAHnxQRf2tjyYimfI6/OzZ%2B9x97H4UnUhfcLM5zydF/wCghdf%2BAa//AByjydF/6CF1/wCAa/8Axyt7/hW3/Ua/8lv/ALKj/hW3/Ua/8lv/ALKn7SHcLMwfJ0X/AKCF1/4Br/8AHKPJ0X/oIXX/AIBr/wDHK3v%2BFbf9Rr/yW/8AsqP%2BFbf9Rr/yW/8AsqPaQ7hZmVqsWkG5XzL65B%2BzQ8C1U8eUuP4/Sq3k6L/0ELr/AMA1/wDjldHeeAPtcol/tbbiJEx5GfuoFz972zUX/Ctv%2Bo1/5Lf/AGVJVIW3CzMHydF/6CF1/wCAa/8AxyjydF/6CF1/4Br/APHK3v8AhW3/AFGv/Jb/AOyo/wCFbf8AUa/8lv8A7Kn7SHcLMwfJ0X/oIXX/AIBr/wDHKs6xFpB1e6Mt9chvtL7gtqpAO4994zWr/wAK2/6jX/kt/wDZVLfeAPtt7Nef2tt82Vn2%2BRnGTnH3qXtIX3CzOc8nRf8AoIXX/gGv/wAco8nRf%2Bghdf8AgGv/AMcre/4Vt/1Gv/Jb/wCyo/4Vt/1Gv/Jb/wCyp%2B0h3CzMHydF/wCghdf%2BAa//AByrOjxaQNXtTFfXJb7Sm0NaqATuHU7zitX/AIVt/wBRr/yW/wDsqlsfAH2K9hvP7W3eVKr7fIxnBzj71J1IW3CzOc8nRf8AoIXX/gGv/wAco8nRf%2Bghdf8AgGv/AMcre/4Vt/1Gv/Jb/wCyo/4Vt/1Gv/Jb/wCyp%2B0h3CzOP1LwP8NdZz/bGiW93nr9p0WGTP8A305rA1H9nL9mXWM/2v8ABzwxdZ6/afBtk%2Bf%2B%2Bs16f/wrb/qNf%2BS3/wBlR/wrb/qNf%2BS3/wBlWU4YWp8ST9Un%2BcWd1DMs0wv8CvOH%2BGc4/wDpM4nja/sQ/sP6xcP/AGh%2By38PrhvIlOZfh5p2eI2Oc7c5HUe4HTrXPX3/AATl/wCCfmo5%2B0fsw%2BEVz/zw8KwRf%2BgOK%2BirPwB9klMv9rbsxOmPIx95Cufve%2Bai/wCFbf8AUa/8lv8A7KuaWAyqb96jB/8Abkf/AJA9ejxlxlh/4WZYmPpiK/8A8uPmK9/4JW/8E4tQz5/7N2krn/nhbyxf%2BgXArJvf%2BCPP/BMq/wA%2Bf%2Bz1tz/zx1fUY/8A0C9FfWf/AArb/qNf%2BS3/ANlR/wAK2/6jX/kt/wDZVjLJ8hn8WHp/%2BAR/%2BRPTpeJniTQ/h51i16Ymt/8ALGfIP/Dm3/gnLB/yCvhrr9j6fZPFOpjH53pqa1/4I/fsVLBctpmqfESy8uEMPsvjW9Xb86jjM5z16fj2r64/4Vt/1Gv/ACW/%2ByqW38AeRFPF/a2fOiCZ8jp86tn73P3cfjWbyPIOmHgvSKX5WOn/AIiv4nP4s5xL/wAVWUv/AEpSPjz/AIdMfs0Q/wDIO%2BNnxms/T7N47uBj85DR/wAOqvhDF/x4ftd/tC2np9n%2BIbjH55r6%2B/4Vt/1Gv/Jb/wCyo/4Vt/1Gv/Jb/wCyo/sTIulFf%2BTL8pIP%2BIqeIz3zKo/VUpf%2BlYeR8g/8Ou/CkX/Hh/wUB/aftvTyPiSAP1jNe5/sX/syp%2Bzl/wAJKsf7R/xP%2BIK6x9jx/wALI19b82Hlef8A8e5CjZv835/Xy09K9L/4Vt/1Gv8AyW/%2ByrU8N%2BG/%2BEe87/TfO87b/wAs9uMZ9z61pTyvK8NNVKMLSW3vT/Jza/A8/NOPuMM7wM8HjsV7SlO106eHV7NNe9DDU5rVLaa7O6unqUUUV0nyIUUUUAFFFFABXjHhX4PeFPgtd6/ofhKS6kj1rxXqfiC%2BkvJFZ2u9Qunu5gCqqAivKUQYyERQSxyx9nrB1rwT/a%2Bpy6j/AGn5fmbfk8nOMKB13D0qqcaftVOS1V7Pte1/vsbxxWJp4aph4TahNxcl0lyNuN/8Lk2vNs42iuo/4Vt/1Gv/ACW/%2Byo/4Vt/1Gv/ACW/%2Byrq9rT7nLZnL0V1H/Ctv%2Bo1/wCS3/2VH/Ctv%2Bo1/wCS3/2VHtafcLMwdc/5DV5/19Sf%2BhGqtdbfeAPtt7Nef2tt82Vn2%2BRnGTnH3qi/4Vt/1Gv/ACW/%2BypKrC24WZy9FdR/wrb/AKjX/kt/9lR/wrb/AKjX/kt/9lT9rT7hZmDof/Ias/8Ar6j/APQhVWutsfAH2K9hvP7W3eVKr7fIxnBzj71Rf8K2/wCo1/5Lf/ZUvawvuFmcvRXUf8K2/wCo1/5Lf/ZUf8K2/wCo1/5Lf/ZU/a0%2B4WZy9WtH/wCPt/8Ar1n/APRT1vf8K2/6jX/kt/8AZVLZ%2BAPskpl/tbdmJ0x5GPvIVz973zSdWFtwszkqK6j/AIVt/wBRr/yW/wDsqP8AhW3/AFGv/Jb/AOyp%2B1p9wszl6K6j/hW3/Ua/8lv/ALKj/hW3/Ua/8lv/ALKj2tPuFmYOn/8AHpff9eo/9Gx1VrrbfwB5EU8X9rZ86IJnyOnzq2fvc/dx%2BNRf8K2/6jX/AJLf/ZUlVhfcLM5eiuo/4Vt/1Gv/ACW/%2Byo/4Vt/1Gv/ACW/%2Byp%2B1p9wszl6tQ/8gW4/6%2Bof/QZa3v8AhW3/AFGv/Jb/AOyqVPAGyyks/wC1v9ZKj7vI6bQwx97/AGv0pOrDuFmclRXUf8K2/wCo1/5Lf/ZUf8K2/wCo1/5Lf/ZU/a0%2B4WZy9FdR/wAK2/6jX/kt/wDZUf8ACtv%2Bo1/5Lf8A2VHtafcLMwZv%2BQLb/wDX1N/6DFVWutfwBvso7P8Atb/Vyu%2B7yOu4KMfe/wBn9ai/4Vt/1Gv/ACW/%2BypKrDuFmcvRXUf8K2/6jX/kt/8AZUf8K2/6jX/kt/8AZU/a0%2B4WZy9WtQ/49LH/AK9T/wCjZK3v%2BFbf9Rr/AMlv/sqluPAHnxQRf2tjyYimfI6/OzZ%2B9x97H4UnVhfcLM5Kiuo/4Vt/1Gv/ACW/%2Byo/4Vt/1Gv/ACW/%2Byp%2B1p9wszl67zwZ/wAi1bf8D/8AQ2rL/wCFbf8AUa/8lv8A7Kt7RdN/sjTItO87zPL3fPtxnLE9Mn1rOrOMo2Q0mmWqKKK5ygooooAKKKKACiiigAooooAKKKKACiiigAooooAKKKKACiiigAooooAK%2Be/ix%2B1H8VPB3xZ12Pw3Y%2BHj4P8ABfifwnoPiO0vrCd9Rv59au7eBpredZ1jt0t0vLaTa0MpmKypmP5Wr6Ery3x3%2ByZ4D8f/ABTHxO1LxT4gtYri%2B0e%2B1vw1ZXFuunaxd6VcfaNPuLgPC0weGURt%2B6ljWTyIlkEioBQB6lRRRQAUUUUAfP8A8Of2lfiHrv7VXiL4R/EDxVouiaVbeLLnSfCejT/DjVYp9bSLTILzdFrMl19ikmBa4cwJEZPKtnOAFZx9AV5vdfs16Vqnxg0/4seIfil4v1S30bXJdZ0LwnqF/byaZpuoSWUlk08X7gXOPJnuAsLztCjTsyxghCvpFABRRRQBxP7SHjL4jfDz4EeK/Hfwn0/RbnX9G0We9sY/EMkos18pS7vIIfnk2oGYRgp5jAJ5kYYyL4r4c/bJ%2BMmua5B4uk0vwxH4S0zxp4V8IeItOGnXB1C41DWdN0y6F3b3H2jy4oY5NZsk8l4pGZY5j5q/KK96%2BMfw1b4w/DTV/hm3jnWfDsOtWT2l3qegJaG6WCRSsiL9rgniG5SVJMZIBypU4I8y8CfsGeBfBOs6Tqd18XPG2t2%2BnajYane6Vqs2nLa6vqVjbrbWV9crbWUTGWGCK1jURNHG32K3aRHdC7AHudFFFABXln7YnxY%2BKvwS%2BDMnxG%2BE%2Bk6BdXNlrFimqHxC05jispbhIpDFHCVMspLqqhnRV3FyX2CKT1OuB/aO%2BAsH7R/w5k%2BGWo/E/wASeF7G4uoZryfwwlgZrgRSLIkbG9tbhVUOiN8iqxKgbsEggHnvwM/aV%2BIfjf4/%2BIPht8TPFOi6RFB4k1vT/DXht/hxqtncajbWc21JotWnujaXb%2BViV4oYtwVt2FVSa%2BgK8r8I/ss22hfELSPiJ4v%2BOPjvxjN4fuLu70Ow8UXli9vZXtzC0M90n2e0hkLMkk6rGzmGJZ3SKONAip6pQAUUUUAeMftmfF744/A7wJN8SPha3hBrPTdOmcaTr1ndXN/4j1VniSx0aySGWJYZbl2eMTsZirtH%2B4ZdxGH%2Byj%2B1H8VPjBrnhCT4kWPh5dN%2BJ3wuXx54Oi0Swngn0uz821Bs7t5Z5VuZRFqNmfOjWFSyzDy8bTXbfGX9mlPi/wDEnwz8UoPjT4u8M6j4StbyLR4dCg0me3SS5CLJcmPULG5AuBGhiWVdrLHLMgwJX3RfAz9kzwH8BNcTWvD3irxBqqafoC6D4YsdbuLd4fD2kLL5osLQQwRt5WREu6ZpZNtvCu/CAUAepUUUUAFfOX7dH7RX7Sv7N%2BlN4y%2BFem%2BDNWgn%2By2fh3wddabe3es%2BILt2ka8kjMM8SwRWlsv2plCTGVIJlLQEo1fRteSfEX9kuD4gfGS7%2BNMHx88eaDfXnhuPQXsdCk0tYoLESPJKlvLNYyXVo8zODJJBNHIxhhIYGGMqAL%2ByR8avEHxj8KX03jXx7pOqa7YG1OpaXYfD/U/Dc%2BmedAsirLbalcTTSK3zFJ12xuFO3dtJr1quD%2BD3wGsPhNrWueLtQ%2BIniPxd4g8Qx2cOp%2BIPFD2n2h7e1WRbe3VbO3t4VRDNO/Ee5mmcszZGO8oAKKKKAPlL9rf9sT9on9m34w%2BHPA1jp/hC8tfHnimx0DwvbXfhzU0SwN9NHZ215PqTTJbXkq3b7pNLt0W4FvumEgSNnPs/7OfxP8a/ECy8WeGPiSNLk8QeCPGM%2Bg6pfaJZyW1pe4tra8hnjhllmeHNveQhkMsmHV8MRiuT%2BK/7Bfw8%2BM3iP%2B2PGnxU8dPY2vib/hJtA0GLVbb7LoevCExRanas9s06yRFnkSKSWS2WRy3k9Mei/Bz4P6L8GvD19pGneINU1m91fWLjVdc13W3hN3qV5NtDSyeRFFEuESONVjjRVSJFC8UAdbRRRQAV8b/HD9s79rf4UftAad8EI7TwrL/at0095e2Pwr8QaidFsvMHleRHHcxya%2BTHJEJZ7NY47WXbHKu6eMD7Irw2T9hnSk8XWPjnTP2kvihZ6loMd9B4Rni1ewk/sK1vLiOe6tYxNZOLuKQwwLtvvtRRYY/LKMoagD0z4NeN7T4kfC7RfG9l4y03xAmoWQkbWNI0yWyt7hwSr7beaSWS3IYMrRSOzoysrYIIHTVzXwh%2BFfhv4K/Dyw%2BG/hW4vJ7WxaeWS81GYSXF3cTzPcXFxKyqqmSWaWSRtqqu5ztVRgDpaACiiigAooooAKKKKACiiigDE%2BJXjex%2BGfw51/4kanayT23h/RLvUriGI4aRIIWlZR7kIQK8x/Zm%2BNnxi8ZeNtQ%2BGvxvj8NyaongXQPFdldeF9PuLaGKHUnvonsnWeeYyPBJZH9%2BCglWZf3UZU59f1zRdK8SaLeeHddsY7qxv7WS2vLaUZWaJ1Kuh9ipIP1rgfgL%2BzN4Y%2BAl1e6rY%2BN/EniTUbzRtN0ZNT8T3NvLPb6XYCf7HZIYIIQUjNzcNvcPM7TMZJHOMAHpFFFFABXA/tS/Ebxx8Iv2dPGfxO%2BGmjwX%2Bv6H4fuLzSLO60%2Ba7jlnRcqGhgdJJRn%2BBGVj0BFd9WV458Kjxx4Q1Hwl/wAJHqukHULVoU1XQ737PeWjH7ssMmCFdTgjIZTjDKykggHJfs3fFC7%2BKXg3UL3V/iDpmv6lpetSWGp/2f4Iv/DslhKIopBbz2GoTzXEUuyVJQXKh45o2VdpDN6FXGfBv4K6V8HYdeuk8X614i1fxRrQ1XxD4g8QNbfar24W2gtI8rawwwRqkFtBGqxxIMJuOXZmbs6ACiiigD59/a9/au%2BJ37L/AIyi1weFNCv/AAVbfDjxN4gvlaaY6ndXelWL3nkxkYigi2Kq7iJWcyniIR5l634CfE34t6p8RfF3wU%2BOM/hy81/wzpukaouqeFdMns7Sa11BblVjMM887iSOayuQX8zDoYztQ5FV/j5%2Bx/4d/aL8bab4o8cfFjxZb6XYaVe6ZP4S0%2BPS/wCzr%2B0vYvJvYZjNZSXJE8P7tikyFV5jKN81dD8FfgFpPwZudY1qXx74i8V63rv2VNS8Q%2BKp7Z7uSC2i8q3t/wDRoIYxHGGkYfJuZ5pGZmZiaAO8ooooAK%2BZ/wBpP9qT9pP4S/Ebxt4T8JeFvDE1jpng7SdW8Kuuj3%2Bq3jmfVYbK5muYLeSJpFRZJWW3h%2BbEIcynzDHH9MV4747/AGQ7nxx8Yr740RftN/EnRL670aPTItP0GbSILe0t45hPGsbNp7TnE4EhEkrrJzHIHhZoiAdP%2Bzt8Spfil8PDr174903xBe22pXFnqM%2Bm%2BEr3Qjazxtg281hfTS3FvKoK5WRgSGVgoDDPd1yHwb%2BDejfBnRtUsrLxLq2uahrutzavr2va68Bu9RvJEji8xxbxRQptihhiVY40UJEvGck9fQAUUUUAfKHxE/as/at8HftU%2BE/2W7OX4c3GoeP76/jtr6z0W/uovBccMdzeWa6gftcRv5b2xsb5o1QWmyW1f/WJhj7p%2BzV8VdZ%2BM3wc07xx4m061tdWW91DTNYisN32c3thfT2Nw8QclhE0ttIyBiSFZQSSMnz7Tf2BdG0u%2ButVtv2kPiL9sk8YXPiqxvmi0L7RYaxP5iPdpL/Ze%2BYi1mmsljuDNGtrJ5QT5IinrPwl%2BF/hr4M/DvTPhp4Se6kstMiYC5vphJcXUru0s1xK4ADSyyu8jkAAs7EADigDo6KKKAI7prlLWR7KFJJhGTDHLIUVmxwCwBKgnvg49D0r4t8UftuftbeCvji/wf8AFes%2BBF0rStHF14r8d%2BGfhRr%2BvWGkaj5Jlm0ZobS%2BEhkt4/Jme7Yopjuo90MJVs/aGo2kt/p89jBqE1o80LRpdW23zISQQHXerLuHUblIyOQRxXhHg39g6fwD4Asvht4W/bA%2BLVppthZT2kQhl0FGljnybl5tmlAXE8rnzWuZQ9wJN7LKhlm8wA9w8N6taa/4dsNd0/WLTUYL2ying1Cw/wBRdI6BhLH8zfIwIZfmbgjk9au1meCfB3h34d%2BDNI%2BH/hDTxaaToWmW%2Bn6XaK5YQ20MaxxpliScIqjJOeK06ACsrxufGw8I6iPhuulHXjasNJOttILRZyMK0wiG9kB5KrgtjG5c7hq1ifEjwJp/xN8Dan4D1PV9T0%2BLUrYxf2ho16be7tXyGSWGQZ2urBWGQVJGGDAkEA%2BPPDX/AAUS/aI1u5%2BKs8Vj4Ql074H6fZ6z4rmvfB2p6Xfa/p1w858uKwubzz9FuI47G9wLoTmYG1lWNY5ga%2B3q%2Be/%2BHc3wyufEviDxhrfxc8d6jqfje4tW%2BJFzc3enIPF8FsIVtrW8SKyRI4Yo4fKUWq27MksodnMjE/QlABRRRQBy3xm1T4i6L8Pr3V/hhcaXBqNrtmmutW0a81JILVDvnaOysis95N5asI4I3RncqAc/K3zF%2Byp%2B3l8Z/jN8RU0z4ta/4X8MaM/iFdI0hF%2BGOsga7JiVR/xMXvTbaZcyPGR9guFeeGQPbvulRq%2BoPit8NIvin4ah0JfGmu%2BHbq01GC%2B0/WvDl1HFdWs8TblIE0ckMqkblaOWORGViCucEeaeD/2EfBfhG8sI3%2BM3j/VdItfFf/CU3vhzV9Ts5bLUddN1JeNqEm21WWJjdv8AaDBbyQ23mIpEI%2BYMAe40UUUAFFFFABRRRQAUUUUAFFFFABRRRQAUUUUAFFFFABRRRQAUUUUAFFFFABRRRQAUUUUAFFFFABRRRQAUUUUAFFFFABRRRQAUUUUAFFFFABRRRQAUUUUAFFFFABRRRQAUUUUAFFFFABRRRQAUUUUAFFFFABRRRQAUUUUAFFFFABRRRQAUUUUAFFFFABRRRQAUUUUAFFFFABRRRQAUUUUAFFFFABRRRQAUUUUAFFFFABRRRQAUUUUAFFFFABRRRQAUUUUAFFFFABRRRQAUUUUAFFFFABRRRQAUUUUAFFFFABRRRQAUUUUAFFFFABRRRQAUUUUAf//Z\">"
            ]
          },
          "metadata": {
            "tags": []
          }
        }
      ]
    },
    {
      "cell_type": "markdown",
      "metadata": {
        "id": "QPgUytA1hWrE",
        "colab_type": "text"
      },
      "source": [
        "# Submit a linear model"
      ]
    },
    {
      "cell_type": "code",
      "metadata": {
        "id": "SYYGk6svhWrG",
        "colab_type": "code",
        "colab": {}
      },
      "source": [
        "## GRADED PART, DO NOT CHANGE!\n",
        "# Testing shapes \n",
        "grader.set_answer(\"9XaAS\", grading_utils.get_tensors_shapes_string([W, b, input_X, input_y, logits, probas, classes]))\n",
        "# Validation loss\n",
        "grader.set_answer(\"vmogZ\", s.run(loss, {input_X: X_val_flat, input_y: y_val_oh}))\n",
        "# Validation accuracy\n",
        "grader.set_answer(\"RMv95\", accuracy_score(y_val, s.run(classes, {input_X: X_val_flat})))"
      ],
      "execution_count": 0,
      "outputs": []
    },
    {
      "cell_type": "markdown",
      "metadata": {
        "id": "HJ-GZLgAj5w-",
        "colab_type": "text"
      },
      "source": [
        ""
      ]
    },
    {
      "cell_type": "code",
      "metadata": {
        "id": "45tNGTJ1hWrH",
        "colab_type": "code",
        "outputId": "e01de881-1ca6-4ade-ed3d-574dcfb55b49",
        "colab": {
          "base_uri": "https://localhost:8080/",
          "height": 34
        }
      },
      "source": [
        "# you can make submission with answers so far to check yourself at this stage\n",
        "grader.submit(COURSERA_EMAIL, COURSERA_TOKEN)"
      ],
      "execution_count": 0,
      "outputs": [
        {
          "output_type": "stream",
          "text": [
            "Submitted to Coursera platform. See results on assignment page!\n"
          ],
          "name": "stdout"
        }
      ]
    },
    {
      "cell_type": "markdown",
      "metadata": {
        "id": "ZvnFVvp0hWrK",
        "colab_type": "text"
      },
      "source": [
        "# Adding more layers"
      ]
    },
    {
      "cell_type": "markdown",
      "metadata": {
        "id": "R0sl8xevhWrK",
        "colab_type": "text"
      },
      "source": [
        "Let's add a couple of hidden layers and see how that improves our validation accuracy.\n",
        "\n",
        "Previously we've coded a dense layer with matrix multiplication by hand. \n",
        "But this is not convinient, you have to create a lot of variables and your code becomes a mess. \n",
        "In TensorFlow there's an easier way to make a dense layer:\n",
        "```python\n",
        "hidden1 = tf.layers.dense(inputs, 256, activation=tf.nn.sigmoid)\n",
        "```\n",
        "\n",
        "That will create all the necessary variables automatically.\n",
        "Here you can also choose an activation function (rememeber that we need it for a hidden layer!).\n",
        "\n",
        "Now add 2 hidden layers to the code above and restart training.\n",
        "You're aiming for ~0.97 validation accuracy here."
      ]
    },
    {
      "cell_type": "code",
      "metadata": {
        "id": "u1KOYn0jhWrM",
        "colab_type": "code",
        "colab": {}
      },
      "source": [
        "# you can write the code here to get a new `step` operation and then run cells with training loop above\n",
        "# name your variables in the same way (e.g. logits, probas, classes, etc) for safety\n",
        "### YOUR CODE HERE ###\n",
        "\n",
        "hidden1 = tf.layers.dense(input_X, 256, activation=tf.nn.sigmoid)\n",
        "hidden2 = tf.layers.dense(hidden1, 256, activation=tf.nn.sigmoid)\n",
        "\n",
        "logits = tf.layers.dense(hidden2, 10)\n",
        "probas = tf.nn.softmax(logits)\n",
        "classes = tf.argmax(probas, 1)\n",
        "loss = tf.reduce_mean(tf.nn.softmax_cross_entropy_with_logits(logits = logits, labels = input_y))\n",
        "step = tf.train.AdamOptimizer().minimize(loss)"
      ],
      "execution_count": 0,
      "outputs": []
    },
    {
      "cell_type": "markdown",
      "metadata": {
        "id": "a7t6PtzjhWrO",
        "colab_type": "text"
      },
      "source": [
        "# Submit a 2-layer MLP\n",
        "Run these cells after training a 2-layer MLP"
      ]
    },
    {
      "cell_type": "code",
      "metadata": {
        "id": "UB4B4UvnhWrP",
        "colab_type": "code",
        "colab": {}
      },
      "source": [
        "## GRADED PART, DO NOT CHANGE!\n",
        "# Validation loss for MLP\n",
        "grader.set_answer(\"i8bgs\", s.run(loss, {input_X: X_val_flat, input_y: y_val_oh}))\n",
        "# Validation accuracy for MLP\n",
        "grader.set_answer(\"rE763\", accuracy_score(y_val, s.run(classes, {input_X: X_val_flat})))"
      ],
      "execution_count": 0,
      "outputs": []
    },
    {
      "cell_type": "code",
      "metadata": {
        "id": "5dNF9QBlhWrS",
        "colab_type": "code",
        "outputId": "510339d4-1848-44c6-bdba-00165aa90b61",
        "colab": {
          "base_uri": "https://localhost:8080/",
          "height": 34
        }
      },
      "source": [
        "# you can make submission with answers so far to check yourself at this stage\n",
        "grader.submit(COURSERA_EMAIL, COURSERA_TOKEN)"
      ],
      "execution_count": 0,
      "outputs": [
        {
          "output_type": "stream",
          "text": [
            "Submitted to Coursera platform. See results on assignment page!\n"
          ],
          "name": "stdout"
        }
      ]
    },
    {
      "cell_type": "code",
      "metadata": {
        "id": "VHGAVG-IhWrV",
        "colab_type": "code",
        "colab": {}
      },
      "source": [
        ""
      ],
      "execution_count": 0,
      "outputs": []
    }
  ]
}